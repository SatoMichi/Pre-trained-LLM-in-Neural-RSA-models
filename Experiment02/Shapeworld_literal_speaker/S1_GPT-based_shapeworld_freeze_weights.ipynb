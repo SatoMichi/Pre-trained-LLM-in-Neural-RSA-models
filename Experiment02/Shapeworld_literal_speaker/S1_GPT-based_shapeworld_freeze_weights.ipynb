{
 "cells": [
  {
   "cell_type": "code",
   "execution_count": 1,
   "metadata": {},
   "outputs": [
    {
     "name": "stderr",
     "output_type": "stream",
     "text": [
      "c:\\Users\\mange\\miniconda3\\envs\\rsa\\lib\\site-packages\\tqdm\\auto.py:22: TqdmWarning: IProgress not found. Please update jupyter and ipywidgets. See https://ipywidgets.readthedocs.io/en/stable/user_install.html\n",
      "  from .autonotebook import tqdm as notebook_tqdm\n",
      "Some weights of the model checkpoint at bert-base-uncased were not used when initializing BertModel: ['cls.predictions.bias', 'cls.predictions.transform.dense.bias', 'cls.predictions.transform.LayerNorm.bias', 'cls.predictions.transform.dense.weight', 'cls.seq_relationship.weight', 'cls.seq_relationship.bias', 'cls.predictions.decoder.weight', 'cls.predictions.transform.LayerNorm.weight']\n",
      "- This IS expected if you are initializing BertModel from the checkpoint of a model trained on another task or with another architecture (e.g. initializing a BertForSequenceClassification model from a BertForPreTraining model).\n",
      "- This IS NOT expected if you are initializing BertModel from the checkpoint of a model that you expect to be exactly identical (initializing a BertForSequenceClassification model from a BertForSequenceClassification model).\n"
     ]
    }
   ],
   "source": [
    "from pathlib import Path\n",
    "import os\n",
    "import numpy as np\n",
    "import matplotlib.pyplot as plt\n",
    "import torch\n",
    "from torch import nn\n",
    "from torch import optim\n",
    "from torch.nn import functional as F\n",
    "from torch.utils.data import DataLoader\n",
    "from shapeworld_data import load_raw_data, get_vocab, ShapeWorld"
   ]
  },
  {
   "cell_type": "code",
   "execution_count": 2,
   "metadata": {},
   "outputs": [
    {
     "name": "stdout",
     "output_type": "stream",
     "text": [
      "Device:  cuda\n"
     ]
    }
   ],
   "source": [
    "GPT = True\n",
    "\n",
    "device = torch.device(\"cuda\" if torch.cuda.is_available() else \"cpu\")\n",
    "print(\"Device: \",device)"
   ]
  },
  {
   "attachments": {},
   "cell_type": "markdown",
   "metadata": {},
   "source": [
    "## Prepare data"
   ]
  },
  {
   "cell_type": "code",
   "execution_count": 3,
   "metadata": {},
   "outputs": [],
   "source": [
    "def check_raw_data(imgs, labels, langs, id=0):\n",
    "    data = list(zip(imgs,labels,langs))\n",
    "    img_list,label,lang = data[id]\n",
    "    fig, axes = plt.subplots(nrows=1, ncols=3, figsize=(6, 2))\n",
    "    fig.suptitle(\" \".join(lang))\n",
    "    for i,(l,img) in enumerate(zip(label,img_list)):\n",
    "        img = img.transpose((2,1,0))\n",
    "        axes[i].imshow(img)\n",
    "        if l==1: axes[i].set_title(\"Correct\")\n",
    "    plt.show()"
   ]
  },
  {
   "cell_type": "code",
   "execution_count": 4,
   "metadata": {},
   "outputs": [],
   "source": [
    "from transformers import GPT2Tokenizer\n",
    "\n",
    "tokenizer = GPT2Tokenizer.from_pretrained(\"distilgpt2\")\n",
    "\n",
    "def sentence2index(sentence):\n",
    "    tokenized = tokenizer.encode(sentence)\n",
    "    #print(tokenized)\n",
    "    return tokenized"
   ]
  },
  {
   "cell_type": "code",
   "execution_count": 5,
   "metadata": {},
   "outputs": [
    {
     "name": "stdout",
     "output_type": "stream",
     "text": [
      "c:\\Users\\mange\\Desktop\\Neural-RSA_with_pre-trained-LM\\pre-trained_RSA\\data\\shapeworld_np\n",
      "['reference-1000-0.npz', 'reference-1000-1.npz', 'reference-1000-2.npz', 'reference-1000-3.npz', 'reference-1000-4.npz']\n"
     ]
    }
   ],
   "source": [
    "root = Path(os.path.abspath('')).parent.parent.absolute()\n",
    "data_path = os.path.join(root,\"data\\shapeworld_np\")\n",
    "print(data_path)\n",
    "data_list = os.listdir(data_path)\n",
    "print(data_list)"
   ]
  },
  {
   "attachments": {},
   "cell_type": "markdown",
   "metadata": {},
   "source": [
    "### Generating vocab_dict"
   ]
  },
  {
   "cell_type": "code",
   "execution_count": 6,
   "metadata": {},
   "outputs": [
    {
     "name": "stderr",
     "output_type": "stream",
     "text": [
      "c:\\Users\\mange\\Desktop\\Neural-RSA_with_pre-trained-LM\\pre-trained_RSA\\code\\Shapeworld_pragmatic_speaker\\shapeworld_data.py:201: VisibleDeprecationWarning: Creating an ndarray from ragged nested sequences (which is a list-or-tuple of lists-or-tuples-or ndarrays with different lengths or shapes) is deprecated. If you meant to do this, you must specify 'dtype=object' when creating the ndarray.\n",
      "  'langs': np.array([t.lower().split() for t in data['langs']])\n"
     ]
    },
    {
     "name": "stdout",
     "output_type": "stream",
     "text": [
      "{'<PAD>': 0, '<sos>': 1, '<eos>': 2, '<UNK>': 3, 'blue': 4, 'shape': 5, 'circle': 6, 'ellipse': 7, 'gray': 8, 'white': 9, 'red': 10, 'rectangle': 11, 'square': 12, 'yellow': 13, 'green': 14}\n",
      "Generating Vocab_dict from GPT tokenizer ...\n",
      "Length of the GPT Vocab list is  50257\n"
     ]
    }
   ],
   "source": [
    "vocab = get_vocab([os.path.join(data_path,d) for d in data_list])\n",
    "print(vocab[\"w2i\"])\n",
    "\n",
    "COLOR = {\"white\":[1,0,0,0,0,0], \"green\":[0,1,0,0,0,0], \"gray\":[0,0,1,0,0,0], \"yellow\":[0,0,0,1,0,0], \"red\":[0,0,0,0,1,0], \"blue\":[0,0,0,0,0,1], \"other\":[0,0,0,0,0,0]}\n",
    "SHAPE = {\"shape\":[0,0,0,0], \"square\":[1,0,0,0], \"circle\":[0,1,0,0], \"rectangle\":[0,0,1,0], \"ellipse\":[0,0,0,1]}\n",
    "\n",
    "print(\"Generating Vocab_dict from GPT tokenizer ...\")\n",
    "tokenizer = GPT2Tokenizer.from_pretrained(\"distilgpt2\")\n",
    "gpt_vocab_dict = tokenizer.get_vocab()\n",
    "print(\"Length of the GPT Vocab list is \",len(gpt_vocab_dict.keys()))\n",
    "\n",
    "PAD = 15636\n",
    "SOS= EOS = UNK = 50256\n",
    "original_PAD = 0\n",
    "original_SOS = 1\n",
    "original_EOS = 2\n",
    "original_UNK = 3\n",
    "\n",
    "w2i = vocab[\"w2i\"]\n",
    "i2w = vocab[\"i2w\"]"
   ]
  },
  {
   "attachments": {},
   "cell_type": "markdown",
   "metadata": {},
   "source": [
    "### Prepapre the data loader"
   ]
  },
  {
   "cell_type": "code",
   "execution_count": 7,
   "metadata": {},
   "outputs": [
    {
     "data": {
      "image/png": "[encoded data removed]",
      "text/plain": [
       "<Figure size 600x200 with 3 Axes>"
      ]
     },
     "metadata": {},
     "output_type": "display_data"
    },
    {
     "name": "stdout",
     "output_type": "stream",
     "text": [
      "torch.Size([5000, 3, 3, 64, 64]) torch.Size([5000, 3]) torch.Size([5000, 4])\n",
      "Train, Test data length =  4000 , 1000\n"
     ]
    }
   ],
   "source": [
    "d = load_raw_data(os.path.join(data_path,data_list[0]))\n",
    "imgs = d[\"imgs\"]\n",
    "labels = d[\"labels\"]\n",
    "langs = d[\"langs\"]\n",
    "check_raw_data(d[\"imgs\"],d[\"labels\"],d[\"langs\"])\n",
    "for i in range(1,5):\n",
    "    d = load_raw_data(os.path.join(data_path,data_list[i]))\n",
    "    imgs = np.vstack((imgs,d[\"imgs\"]))\n",
    "    labels = np.vstack((labels,d[\"labels\"]))\n",
    "    langs = np.hstack((langs,d[\"langs\"]))\n",
    "    #check_raw_data(d[\"imgs\"],d[\"labels\"],d[\"langs\"])\n",
    "\n",
    "imgs_data_tensor = torch.tensor(imgs,dtype=torch.float)\n",
    "label_data_tensor = torch.tensor(labels)\n",
    "context_id_data = list(map(sentence2index,langs))\n",
    "max_context_len = np.max([len(c) for c in context_id_data])\n",
    "padded_context_data = torch.tensor(np.array([[SOS]+c+[EOS]+[PAD]*(max_context_len-len(c)) for c in context_id_data]))   # <sos>+context+<eos>+<pad>*\n",
    "print(imgs_data_tensor.shape, label_data_tensor.shape, padded_context_data.shape)\n",
    "\n",
    "data = [(img,u,l) for img,l,u in zip(imgs_data_tensor,label_data_tensor,padded_context_data)]\n",
    "test_split = 1000\n",
    "train_data, test_data = data[:-test_split], data[-test_split:]\n",
    "print(\"Train, Test data length = \",len(train_data),\",\",len(test_data))\n",
    "\n",
    "train_batch = DataLoader(dataset=train_data,batch_size=32,shuffle=True,num_workers=0)\n",
    "test_batch = DataLoader(dataset=test_data,batch_size=32,shuffle=False,num_workers=0)"
   ]
  },
  {
   "attachments": {},
   "cell_type": "markdown",
   "metadata": {},
   "source": [
    "## Model"
   ]
  },
  {
   "attachments": {},
   "cell_type": "markdown",
   "metadata": {},
   "source": [
    "### Encoder"
   ]
  },
  {
   "cell_type": "code",
   "execution_count": 9,
   "metadata": {},
   "outputs": [],
   "source": [
    "from literal_listener_shapeworld import CNN_encoder\n",
    "\n",
    "class Imgs_emb_DeepSet(nn.Module):\n",
    "    def __init__(self, input_size=10, output_size=20):\n",
    "        super(Imgs_emb_DeepSet, self).__init__()\n",
    "        self.linear1 = nn.Linear(input_size, output_size)\n",
    "        self.linear2 = nn.Linear(input_size, output_size)\n",
    "        self.linear3 = nn.Linear(output_size, output_size)\n",
    "    \n",
    "    def forward(self, img_emb1, img_emb2):\n",
    "        img_embs = F.relu(self.linear1(img_emb1)) + F.relu(self.linear2(img_emb2))\n",
    "        img_embs = self.linear3(img_embs)\n",
    "        return img_embs\n",
    "\n",
    "\n",
    "class CS_CNN_Encoder(nn.Module):\n",
    "    def __init__(self, input_size=10, output_size=10):\n",
    "        super(CS_CNN_Encoder, self).__init__()\n",
    "        self.cnn_color_encoder = CNN_encoder(6)\n",
    "        self.cnn_color_encoder.load_state_dict(torch.load(\"model_params/cnn_color_model_best-loss.pth\",map_location=device))\n",
    "        for params in self.cnn_color_encoder.parameters(): params.requires_grad = False\n",
    "        self.cnn_shape_encoder = CNN_encoder(4)\n",
    "        self.cnn_shape_encoder.load_state_dict(torch.load(\"model_params/cnn_shape_model_best-loss.pth\",map_location=device))\n",
    "        for params in self.cnn_shape_encoder.parameters(): params.requires_grad = False\n",
    "        self.deepset_size = 6+4\n",
    "        self.deepset = Imgs_emb_DeepSet(self.deepset_size, self.deepset_size)\n",
    "        self.linear = nn.Linear(input_size+self.deepset_size, output_size)\n",
    "\n",
    "    def get_feat_emb(self,feat):\n",
    "        col_embs = self.cnn_color_encoder(feat)\n",
    "        shape_embs = self.cnn_shape_encoder(feat)\n",
    "        img_embs = torch.hstack((col_embs,shape_embs))\n",
    "        return img_embs\n",
    "    \n",
    "    def forward(self,feats,labels):\n",
    "        idxs = [0,1,2]\n",
    "        target_idx = int(torch.argmax(labels))\n",
    "        idxs.remove(target_idx)\n",
    "        other_idx1,other_idx2 = idxs[0],idxs[1]\n",
    "        target_img,other_img1,other_img2 = feats[:,target_idx], feats[:,other_idx1], feats[:,other_idx2]\n",
    "        target_embs = self.get_feat_emb(target_img)\n",
    "        other_embs1 = self.get_feat_emb(other_img1)\n",
    "        other_embs2 = self.get_feat_emb(other_img2)                 # (batch_size,10)\n",
    "        other_embs = F.relu(self.deepset(other_embs1,other_embs2))  # (batch_size,10)\n",
    "        embs = torch.hstack((target_embs,other_embs))               # (batch_size,20)\n",
    "        feat = self.linear(embs)                                    # (batch_size,output_size)\n",
    "        return feat"
   ]
  },
  {
   "attachments": {},
   "cell_type": "markdown",
   "metadata": {},
   "source": [
    "### Speaker Encoder-Decoder model"
   ]
  },
  {
   "cell_type": "code",
   "execution_count": 10,
   "metadata": {},
   "outputs": [],
   "source": [
    "# Define the encoder-decoder model\n",
    "from transformers import EncoderDecoderModel\n",
    "\n",
    "class S1_EncoderDecoder(torch.nn.Module):\n",
    "    def __init__(self, input_size, hidden_size=768):\n",
    "        super(S1_EncoderDecoder, self).__init__()\n",
    "        self.hidden_size = hidden_size\n",
    "        self.encoder = CS_CNN_Encoder(input_size, hidden_size)\n",
    "        self.decoder = EncoderDecoderModel.from_encoder_decoder_pretrained(\"bert-base-uncased\", \"distilgpt2\").decoder\n",
    "\n",
    "    def forward(self, feats, labels, langs):\n",
    "        batch_size = len(feats)\n",
    "        encoder_hidden = self.encoder(feats, labels)\n",
    "        decoder_hidden = encoder_hidden.reshape(batch_size,1,self.hidden_size)\n",
    "        decoder_input = langs[:,:-1]\n",
    "        decoder_output = self.decoder(input_ids=decoder_input, encoder_hidden_states=decoder_hidden)\n",
    "        return decoder_output[0]\n",
    "    \n",
    "    def generate(self,feats,labels,max_len=5,temperature=0.7):\n",
    "        batch_size = len(feats)\n",
    "        encoder_hidden = self.encoder(feats, labels)\n",
    "        decoder_hidden = encoder_hidden.reshape(batch_size,1,self.hidden_size)\n",
    "        sos = \"<|endoftext|>\"\n",
    "        generated = torch.tensor(tokenizer.encode(sos)*batch_size).unsqueeze(1).to(decoder_hidden.device)\n",
    "        probs_list = torch.zeros(batch_size,50257)\n",
    "        probs_list[:,SOS] = 1.0\n",
    "        probs_list = probs_list.unsqueeze(1).to(decoder_hidden.device)\n",
    "        for i in range(max_len):\n",
    "            #print(generated.shape)\n",
    "            decoder_output = self.decoder(input_ids=generated, encoder_hidden_states=decoder_hidden)\n",
    "            logits = decoder_output[0][:,-1,:]/temperature\n",
    "            probs = F.softmax(logits,dim=-1)\n",
    "            next_token = torch.multinomial(probs, num_samples=1)\n",
    "            generated = torch.cat((generated, next_token), dim=1)\n",
    "            probs_list = torch.cat((probs_list,probs.unsqueeze(1)),dim=1)\n",
    "        return generated,probs_list"
   ]
  },
  {
   "attachments": {},
   "cell_type": "markdown",
   "metadata": {},
   "source": [
    "## Training"
   ]
  },
  {
   "attachments": {},
   "cell_type": "markdown",
   "metadata": {},
   "source": [
    "### Setting"
   ]
  },
  {
   "cell_type": "code",
   "execution_count": 12,
   "metadata": {},
   "outputs": [],
   "source": [
    "import re\n",
    "def check_data(img_list,c_lang,g_lang,lis_label,cscnn=None,gg_lang=None):\n",
    "    fig, axes = plt.subplots(nrows=1, ncols=3, figsize=(6, 4))\n",
    "    context = \"Correct: \"+\" \".join(c_lang)\n",
    "    if cscnn is not None: context += \"\\nCSCNN:\"+cscnn\n",
    "    context += \"\\nGenerated:\"+\" \".join(g_lang)\n",
    "    if gg_lang is not None: context += \"\\n Generated02:\"+re.sub(r\"<\\|endoftext\\|>|pad\",\" \",gg_lang)\n",
    "    fig.suptitle(context)\n",
    "    for i,(l,img) in enumerate(zip(label,img_list)):\n",
    "        img = img.transpose(2,0).to(\"cpu\").detach().numpy()\n",
    "        axes[i].imshow(img)\n",
    "        if torch.argmax(lis_label)==i:axes[i].set_title(\"Listener Prediction\")\n",
    "    plt.show()"
   ]
  },
  {
   "cell_type": "code",
   "execution_count": 13,
   "metadata": {},
   "outputs": [
    {
     "name": "stderr",
     "output_type": "stream",
     "text": [
      "Some weights of the model checkpoint at bert-base-uncased were not used when initializing BertModel: ['cls.predictions.bias', 'cls.predictions.transform.dense.bias', 'cls.predictions.transform.LayerNorm.bias', 'cls.predictions.transform.dense.weight', 'cls.seq_relationship.weight', 'cls.seq_relationship.bias', 'cls.predictions.decoder.weight', 'cls.predictions.transform.LayerNorm.weight']\n",
      "- This IS expected if you are initializing BertModel from the checkpoint of a model trained on another task or with another architecture (e.g. initializing a BertForSequenceClassification model from a BertForPreTraining model).\n",
      "- This IS NOT expected if you are initializing BertModel from the checkpoint of a model that you expect to be exactly identical (initializing a BertForSequenceClassification model from a BertForSequenceClassification model).\n",
      "Some weights of GPT2LMHeadModel were not initialized from the model checkpoint at distilgpt2 and are newly initialized: ['transformer.h.0.crossattention.c_proj.weight', 'transformer.h.4.ln_cross_attn.weight', 'transformer.h.1.crossattention.q_attn.weight', 'transformer.h.0.crossattention.q_attn.weight', 'transformer.h.3.crossattention.bias', 'transformer.h.1.crossattention.c_proj.weight', 'transformer.h.5.crossattention.masked_bias', 'transformer.h.4.crossattention.q_attn.weight', 'transformer.h.3.crossattention.q_attn.weight', 'transformer.h.4.crossattention.c_attn.weight', 'transformer.h.5.crossattention.c_proj.weight', 'transformer.h.4.crossattention.masked_bias', 'transformer.h.5.crossattention.q_attn.weight', 'transformer.h.0.crossattention.bias', 'transformer.h.4.crossattention.c_proj.weight', 'transformer.h.4.crossattention.c_proj.bias', 'transformer.h.3.crossattention.masked_bias', 'transformer.h.2.crossattention.c_proj.weight', 'transformer.h.1.crossattention.masked_bias', 'transformer.h.4.crossattention.bias', 'transformer.h.1.crossattention.c_proj.bias', 'transformer.h.2.ln_cross_attn.weight', 'transformer.h.5.ln_cross_attn.weight', 'transformer.h.2.crossattention.c_proj.bias', 'transformer.h.2.crossattention.masked_bias', 'transformer.h.3.crossattention.c_attn.weight', 'transformer.h.0.crossattention.c_attn.weight', 'transformer.h.2.crossattention.bias', 'transformer.h.0.crossattention.masked_bias', 'transformer.h.5.crossattention.c_attn.weight', 'transformer.h.5.crossattention.bias', 'transformer.h.2.crossattention.q_attn.weight', 'transformer.h.3.crossattention.c_proj.weight', 'transformer.h.3.ln_cross_attn.weight', 'transformer.h.0.ln_cross_attn.weight', 'transformer.h.1.crossattention.bias', 'transformer.h.1.ln_cross_attn.weight', 'transformer.h.1.crossattention.c_attn.weight', 'transformer.h.2.crossattention.c_attn.weight', 'transformer.h.5.crossattention.c_proj.bias', 'transformer.h.3.crossattention.c_proj.bias', 'transformer.h.0.crossattention.c_proj.bias']\n",
      "You should probably TRAIN this model on a down-stream task to be able to use it for predictions and inference.\n",
      "c:\\Users\\mange\\miniconda3\\envs\\rsa\\lib\\site-packages\\torch\\nn\\modules\\rnn.py:67: UserWarning: dropout option adds dropout after all but last recurrent layer, so non-zero dropout expects num_layers greater than 1, but got dropout=0.5 and num_layers=1\n",
      "  warnings.warn(\"dropout option adds dropout after all but last \"\n"
     ]
    }
   ],
   "source": [
    "from literal_listener_shapeworld import ShapeWorld_RNN_L0, CNN_encoder\n",
    "\n",
    "feat_dim = 10\n",
    "speaker = S1_EncoderDecoder(input_size=feat_dim)\n",
    "speaker.to(device)\n",
    "\n",
    "# First freeze all the weights\n",
    "base_model = speaker.decoder.get_output_embeddings()\n",
    "for param in base_model.parameters():\n",
    "    param.requires_grad = False\n",
    "# The release the final one layers out of 6 layers\n",
    "last_two_layers = speaker.decoder.transformer.h[-1:]\n",
    "for layer in last_two_layers:\n",
    "    for param in layer.parameters():\n",
    "        param.requires_grad = True\n",
    "\n",
    "literal_listener = ShapeWorld_RNN_L0(len(w2i)).to(device)\n",
    "literal_listener.load_state_dict(torch.load(\"model_params\\shapeworld_rnn_full-data_100epoch_l0_last.pth\",map_location=device))\n",
    "\n",
    "cnn_color_encoder = CNN_encoder(6).to(device)\n",
    "cnn_color_encoder.load_state_dict(torch.load(\"model_params/cnn_color_model_best-loss.pth\",map_location=device))\n",
    "for params in cnn_color_encoder.parameters(): params.requires_grad = False\n",
    "cnn_shape_encoder = CNN_encoder(4).to(device)\n",
    "cnn_shape_encoder.load_state_dict(torch.load(\"model_params/cnn_shape_model_best-loss.pth\",map_location=device))\n",
    "for params in cnn_shape_encoder.parameters(): params.requires_grad = False\n",
    "\n",
    "optimizer = optim.Adam(speaker.parameters(),lr=0.001)\n",
    "criterion = nn.CrossEntropyLoss(ignore_index=PAD)\n",
    "\n",
    "max_len = 5\n",
    "\n",
    "epoch = 100"
   ]
  },
  {
   "attachments": {},
   "cell_type": "markdown",
   "metadata": {},
   "source": [
    "### Start"
   ]
  },
  {
   "cell_type": "code",
   "execution_count": 14,
   "metadata": {},
   "outputs": [
    {
     "name": "stdout",
     "output_type": "stream",
     "text": [
      "##############################################\n",
      "Epoch:1/100\n"
     ]
    },
    {
     "name": "stderr",
     "output_type": "stream",
     "text": [
      "100%|██████████| 125/125 [01:05<00:00,  1.92it/s]\n",
      "100%|██████████| 32/32 [00:19<00:00,  1.68it/s]\n"
     ]
    },
    {
     "name": "stdout",
     "output_type": "stream",
     "text": [
      "Train Loss:9.14E-01, Test Loss:5.78E-01\n",
      "Best loss saved ...\n"
     ]
    },
    {
     "name": "stderr",
     "output_type": "stream",
     "text": [
      "Clipping input data to the valid range for imshow with RGB data ([0..1] for floats or [0..255] for integers).\n",
      "Clipping input data to the valid range for imshow with RGB data ([0..1] for floats or [0..255] for integers).\n",
      "Clipping input data to the valid range for imshow with RGB data ([0..1] for floats or [0..255] for integers).\n"
     ]
    },
    {
     "data": {
      "image/png": "[encoded data removed]",
      "text/plain": [
       "<Figure size 600x400 with 3 Axes>"
      ]
     },
     "metadata": {},
     "output_type": "display_data"
    },
    {
     "name": "stdout",
     "output_type": "stream",
     "text": [
      "##############################################\n",
      "Epoch:2/100\n"
     ]
    },
    {
     "name": "stderr",
     "output_type": "stream",
     "text": [
      "100%|██████████| 125/125 [00:56<00:00,  2.21it/s]\n",
      "100%|██████████| 32/32 [00:18<00:00,  1.77it/s]\n"
     ]
    },
    {
     "name": "stdout",
     "output_type": "stream",
     "text": [
      "Train Loss:5.21E-01, Test Loss:4.54E-01\n",
      "Best loss saved ...\n",
      "##############################################\n",
      "Epoch:3/100\n"
     ]
    },
    {
     "name": "stderr",
     "output_type": "stream",
     "text": [
      "100%|██████████| 125/125 [01:00<00:00,  2.07it/s]\n",
      "100%|██████████| 32/32 [00:17<00:00,  1.79it/s]\n"
     ]
    },
    {
     "name": "stdout",
     "output_type": "stream",
     "text": [
      "Train Loss:4.77E-01, Test Loss:4.11E-01\n",
      "Best loss saved ...\n",
      "##############################################\n",
      "Epoch:4/100\n"
     ]
    },
    {
     "name": "stderr",
     "output_type": "stream",
     "text": [
      "100%|██████████| 125/125 [00:55<00:00,  2.25it/s]\n",
      "100%|██████████| 32/32 [00:14<00:00,  2.15it/s]\n"
     ]
    },
    {
     "name": "stdout",
     "output_type": "stream",
     "text": [
      "Train Loss:4.68E-01, Test Loss:4.43E-01\n",
      "##############################################\n",
      "Epoch:5/100\n"
     ]
    },
    {
     "name": "stderr",
     "output_type": "stream",
     "text": [
      "100%|██████████| 125/125 [00:52<00:00,  2.39it/s]\n",
      "100%|██████████| 32/32 [00:17<00:00,  1.79it/s]\n"
     ]
    },
    {
     "name": "stdout",
     "output_type": "stream",
     "text": [
      "Train Loss:4.40E-01, Test Loss:4.01E-01\n",
      "Best loss saved ...\n",
      "##############################################\n",
      "Epoch:6/100\n"
     ]
    },
    {
     "name": "stderr",
     "output_type": "stream",
     "text": [
      "100%|██████████| 125/125 [00:52<00:00,  2.40it/s]\n",
      "100%|██████████| 32/32 [00:15<00:00,  2.09it/s]\n"
     ]
    },
    {
     "name": "stdout",
     "output_type": "stream",
     "text": [
      "Train Loss:4.34E-01, Test Loss:4.69E-01\n",
      "##############################################\n",
      "Epoch:7/100\n"
     ]
    },
    {
     "name": "stderr",
     "output_type": "stream",
     "text": [
      "100%|██████████| 125/125 [00:57<00:00,  2.17it/s]\n",
      "100%|██████████| 32/32 [00:16<00:00,  1.94it/s]\n"
     ]
    },
    {
     "name": "stdout",
     "output_type": "stream",
     "text": [
      "Train Loss:4.10E-01, Test Loss:3.86E-01\n",
      "Best loss saved ...\n",
      "##############################################\n",
      "Epoch:8/100\n"
     ]
    },
    {
     "name": "stderr",
     "output_type": "stream",
     "text": [
      "100%|██████████| 125/125 [00:53<00:00,  2.33it/s]\n",
      "100%|██████████| 32/32 [00:17<00:00,  1.82it/s]\n"
     ]
    },
    {
     "name": "stdout",
     "output_type": "stream",
     "text": [
      "Train Loss:3.93E-01, Test Loss:3.93E-01\n",
      "##############################################\n",
      "Epoch:9/100\n"
     ]
    },
    {
     "name": "stderr",
     "output_type": "stream",
     "text": [
      "100%|██████████| 125/125 [00:51<00:00,  2.41it/s]\n",
      "100%|██████████| 32/32 [00:15<00:00,  2.06it/s]\n"
     ]
    },
    {
     "name": "stdout",
     "output_type": "stream",
     "text": [
      "Train Loss:3.85E-01, Test Loss:3.34E-01\n",
      "Best loss saved ...\n",
      "##############################################\n",
      "Epoch:10/100\n"
     ]
    },
    {
     "name": "stderr",
     "output_type": "stream",
     "text": [
      "100%|██████████| 125/125 [00:56<00:00,  2.20it/s]\n",
      "100%|██████████| 32/32 [00:17<00:00,  1.82it/s]\n"
     ]
    },
    {
     "name": "stdout",
     "output_type": "stream",
     "text": [
      "Train Loss:3.86E-01, Test Loss:3.41E-01\n",
      "##############################################\n",
      "Epoch:11/100\n"
     ]
    },
    {
     "name": "stderr",
     "output_type": "stream",
     "text": [
      "100%|██████████| 125/125 [00:56<00:00,  2.23it/s]\n",
      "100%|██████████| 32/32 [00:17<00:00,  1.83it/s]\n",
      "Clipping input data to the valid range for imshow with RGB data ([0..1] for floats or [0..255] for integers).\n",
      "Clipping input data to the valid range for imshow with RGB data ([0..1] for floats or [0..255] for integers).\n",
      "Clipping input data to the valid range for imshow with RGB data ([0..1] for floats or [0..255] for integers).\n"
     ]
    },
    {
     "name": "stdout",
     "output_type": "stream",
     "text": [
      "Train Loss:3.76E-01, Test Loss:3.56E-01\n"
     ]
    },
    {
     "data": {
      "image/png": "[encoded data removed]",
      "text/plain": [
       "<Figure size 600x400 with 3 Axes>"
      ]
     },
     "metadata": {},
     "output_type": "display_data"
    },
    {
     "name": "stdout",
     "output_type": "stream",
     "text": [
      "##############################################\n",
      "Epoch:12/100\n"
     ]
    },
    {
     "name": "stderr",
     "output_type": "stream",
     "text": [
      "100%|██████████| 125/125 [00:56<00:00,  2.19it/s]\n",
      "100%|██████████| 32/32 [00:17<00:00,  1.78it/s]\n"
     ]
    },
    {
     "name": "stdout",
     "output_type": "stream",
     "text": [
      "Train Loss:3.67E-01, Test Loss:3.40E-01\n",
      "##############################################\n",
      "Epoch:13/100\n"
     ]
    },
    {
     "name": "stderr",
     "output_type": "stream",
     "text": [
      "100%|██████████| 125/125 [00:55<00:00,  2.26it/s]\n",
      "100%|██████████| 32/32 [00:15<00:00,  2.07it/s]\n"
     ]
    },
    {
     "name": "stdout",
     "output_type": "stream",
     "text": [
      "Train Loss:3.66E-01, Test Loss:3.44E-01\n",
      "##############################################\n",
      "Epoch:14/100\n"
     ]
    },
    {
     "name": "stderr",
     "output_type": "stream",
     "text": [
      "100%|██████████| 125/125 [00:52<00:00,  2.38it/s]\n",
      "100%|██████████| 32/32 [00:17<00:00,  1.87it/s]\n"
     ]
    },
    {
     "name": "stdout",
     "output_type": "stream",
     "text": [
      "Train Loss:3.73E-01, Test Loss:3.39E-01\n",
      "##############################################\n",
      "Epoch:15/100\n"
     ]
    },
    {
     "name": "stderr",
     "output_type": "stream",
     "text": [
      "100%|██████████| 125/125 [00:53<00:00,  2.33it/s]\n",
      "100%|██████████| 32/32 [00:17<00:00,  1.85it/s]\n"
     ]
    },
    {
     "name": "stdout",
     "output_type": "stream",
     "text": [
      "Train Loss:3.64E-01, Test Loss:3.37E-01\n",
      "##############################################\n",
      "Epoch:16/100\n"
     ]
    },
    {
     "name": "stderr",
     "output_type": "stream",
     "text": [
      "100%|██████████| 125/125 [00:51<00:00,  2.41it/s]\n",
      "100%|██████████| 32/32 [00:17<00:00,  1.87it/s]\n"
     ]
    },
    {
     "name": "stdout",
     "output_type": "stream",
     "text": [
      "Train Loss:3.61E-01, Test Loss:3.06E-01\n",
      "Best loss saved ...\n",
      "##############################################\n",
      "Epoch:17/100\n"
     ]
    },
    {
     "name": "stderr",
     "output_type": "stream",
     "text": [
      "100%|██████████| 125/125 [00:50<00:00,  2.45it/s]\n",
      "100%|██████████| 32/32 [00:16<00:00,  1.90it/s]\n"
     ]
    },
    {
     "name": "stdout",
     "output_type": "stream",
     "text": [
      "Train Loss:3.54E-01, Test Loss:3.24E-01\n",
      "##############################################\n",
      "Epoch:18/100\n"
     ]
    },
    {
     "name": "stderr",
     "output_type": "stream",
     "text": [
      "100%|██████████| 125/125 [00:49<00:00,  2.53it/s]\n",
      "100%|██████████| 32/32 [00:17<00:00,  1.83it/s]\n"
     ]
    },
    {
     "name": "stdout",
     "output_type": "stream",
     "text": [
      "Train Loss:3.61E-01, Test Loss:3.26E-01\n",
      "##############################################\n",
      "Epoch:19/100\n"
     ]
    },
    {
     "name": "stderr",
     "output_type": "stream",
     "text": [
      "100%|██████████| 125/125 [00:51<00:00,  2.44it/s]\n",
      "100%|██████████| 32/32 [00:16<00:00,  1.96it/s]\n"
     ]
    },
    {
     "name": "stdout",
     "output_type": "stream",
     "text": [
      "Train Loss:3.44E-01, Test Loss:3.35E-01\n",
      "##############################################\n",
      "Epoch:20/100\n"
     ]
    },
    {
     "name": "stderr",
     "output_type": "stream",
     "text": [
      "100%|██████████| 125/125 [00:51<00:00,  2.44it/s]\n",
      "100%|██████████| 32/32 [00:18<00:00,  1.75it/s]\n"
     ]
    },
    {
     "name": "stdout",
     "output_type": "stream",
     "text": [
      "Train Loss:3.57E-01, Test Loss:3.28E-01\n",
      "##############################################\n",
      "Epoch:21/100\n"
     ]
    },
    {
     "name": "stderr",
     "output_type": "stream",
     "text": [
      "100%|██████████| 125/125 [00:50<00:00,  2.48it/s]\n",
      "100%|██████████| 32/32 [00:17<00:00,  1.87it/s]\n",
      "Clipping input data to the valid range for imshow with RGB data ([0..1] for floats or [0..255] for integers).\n",
      "Clipping input data to the valid range for imshow with RGB data ([0..1] for floats or [0..255] for integers).\n",
      "Clipping input data to the valid range for imshow with RGB data ([0..1] for floats or [0..255] for integers).\n"
     ]
    },
    {
     "name": "stdout",
     "output_type": "stream",
     "text": [
      "Train Loss:3.59E-01, Test Loss:3.22E-01\n"
     ]
    },
    {
     "data": {
      "image/png": "[encoded data removed]",
      "text/plain": [
       "<Figure size 600x400 with 3 Axes>"
      ]
     },
     "metadata": {},
     "output_type": "display_data"
    },
    {
     "name": "stdout",
     "output_type": "stream",
     "text": [
      "##############################################\n",
      "Epoch:22/100\n"
     ]
    },
    {
     "name": "stderr",
     "output_type": "stream",
     "text": [
      "100%|██████████| 125/125 [00:51<00:00,  2.42it/s]\n",
      "100%|██████████| 32/32 [00:17<00:00,  1.87it/s]\n"
     ]
    },
    {
     "name": "stdout",
     "output_type": "stream",
     "text": [
      "Train Loss:3.57E-01, Test Loss:3.40E-01\n",
      "##############################################\n",
      "Epoch:23/100\n"
     ]
    },
    {
     "name": "stderr",
     "output_type": "stream",
     "text": [
      "100%|██████████| 125/125 [00:50<00:00,  2.45it/s]\n",
      "100%|██████████| 32/32 [00:17<00:00,  1.85it/s]\n"
     ]
    },
    {
     "name": "stdout",
     "output_type": "stream",
     "text": [
      "Train Loss:3.44E-01, Test Loss:3.15E-01\n",
      "##############################################\n",
      "Epoch:24/100\n"
     ]
    },
    {
     "name": "stderr",
     "output_type": "stream",
     "text": [
      "100%|██████████| 125/125 [00:52<00:00,  2.37it/s]\n",
      "100%|██████████| 32/32 [00:17<00:00,  1.88it/s]\n"
     ]
    },
    {
     "name": "stdout",
     "output_type": "stream",
     "text": [
      "Train Loss:3.45E-01, Test Loss:3.45E-01\n",
      "##############################################\n",
      "Epoch:25/100\n"
     ]
    },
    {
     "name": "stderr",
     "output_type": "stream",
     "text": [
      "100%|██████████| 125/125 [00:51<00:00,  2.43it/s]\n",
      "100%|██████████| 32/32 [00:17<00:00,  1.81it/s]\n"
     ]
    },
    {
     "name": "stdout",
     "output_type": "stream",
     "text": [
      "Train Loss:3.59E-01, Test Loss:3.18E-01\n",
      "##############################################\n",
      "Epoch:26/100\n"
     ]
    },
    {
     "name": "stderr",
     "output_type": "stream",
     "text": [
      "100%|██████████| 125/125 [00:50<00:00,  2.46it/s]\n",
      "100%|██████████| 32/32 [00:17<00:00,  1.81it/s]\n"
     ]
    },
    {
     "name": "stdout",
     "output_type": "stream",
     "text": [
      "Train Loss:3.41E-01, Test Loss:3.22E-01\n",
      "##############################################\n",
      "Epoch:27/100\n"
     ]
    },
    {
     "name": "stderr",
     "output_type": "stream",
     "text": [
      "100%|██████████| 125/125 [00:52<00:00,  2.40it/s]\n",
      "100%|██████████| 32/32 [00:16<00:00,  1.92it/s]\n"
     ]
    },
    {
     "name": "stdout",
     "output_type": "stream",
     "text": [
      "Train Loss:3.51E-01, Test Loss:3.44E-01\n",
      "##############################################\n",
      "Epoch:28/100\n"
     ]
    },
    {
     "name": "stderr",
     "output_type": "stream",
     "text": [
      "100%|██████████| 125/125 [00:48<00:00,  2.57it/s]\n",
      "100%|██████████| 32/32 [00:13<00:00,  2.40it/s]\n"
     ]
    },
    {
     "name": "stdout",
     "output_type": "stream",
     "text": [
      "Train Loss:3.42E-01, Test Loss:3.15E-01\n",
      "##############################################\n",
      "Epoch:29/100\n"
     ]
    },
    {
     "name": "stderr",
     "output_type": "stream",
     "text": [
      "100%|██████████| 125/125 [00:51<00:00,  2.43it/s]\n",
      "100%|██████████| 32/32 [00:15<00:00,  2.07it/s]\n"
     ]
    },
    {
     "name": "stdout",
     "output_type": "stream",
     "text": [
      "Train Loss:3.42E-01, Test Loss:3.25E-01\n",
      "##############################################\n",
      "Epoch:30/100\n"
     ]
    },
    {
     "name": "stderr",
     "output_type": "stream",
     "text": [
      "100%|██████████| 125/125 [00:51<00:00,  2.43it/s]\n",
      "100%|██████████| 32/32 [00:16<00:00,  1.89it/s]\n"
     ]
    },
    {
     "name": "stdout",
     "output_type": "stream",
     "text": [
      "Train Loss:3.31E-01, Test Loss:3.36E-01\n",
      "##############################################\n",
      "Epoch:31/100\n"
     ]
    },
    {
     "name": "stderr",
     "output_type": "stream",
     "text": [
      "100%|██████████| 125/125 [00:49<00:00,  2.51it/s]\n",
      "100%|██████████| 32/32 [00:16<00:00,  1.91it/s]\n",
      "Clipping input data to the valid range for imshow with RGB data ([0..1] for floats or [0..255] for integers).\n",
      "Clipping input data to the valid range for imshow with RGB data ([0..1] for floats or [0..255] for integers).\n",
      "Clipping input data to the valid range for imshow with RGB data ([0..1] for floats or [0..255] for integers).\n"
     ]
    },
    {
     "name": "stdout",
     "output_type": "stream",
     "text": [
      "Train Loss:3.28E-01, Test Loss:3.15E-01\n"
     ]
    },
    {
     "data": {
      "image/png": "[encoded data removed]",
      "text/plain": [
       "<Figure size 600x400 with 3 Axes>"
      ]
     },
     "metadata": {},
     "output_type": "display_data"
    },
    {
     "name": "stdout",
     "output_type": "stream",
     "text": [
      "##############################################\n",
      "Epoch:32/100\n"
     ]
    },
    {
     "name": "stderr",
     "output_type": "stream",
     "text": [
      "100%|██████████| 125/125 [00:52<00:00,  2.38it/s]\n",
      "100%|██████████| 32/32 [00:15<00:00,  2.08it/s]\n"
     ]
    },
    {
     "name": "stdout",
     "output_type": "stream",
     "text": [
      "Train Loss:3.37E-01, Test Loss:3.30E-01\n",
      "##############################################\n",
      "Epoch:33/100\n"
     ]
    },
    {
     "name": "stderr",
     "output_type": "stream",
     "text": [
      "100%|██████████| 125/125 [00:51<00:00,  2.44it/s]\n",
      "100%|██████████| 32/32 [00:15<00:00,  2.09it/s]\n"
     ]
    },
    {
     "name": "stdout",
     "output_type": "stream",
     "text": [
      "Train Loss:3.40E-01, Test Loss:3.28E-01\n",
      "##############################################\n",
      "Epoch:34/100\n"
     ]
    },
    {
     "name": "stderr",
     "output_type": "stream",
     "text": [
      "100%|██████████| 125/125 [00:51<00:00,  2.44it/s]\n",
      "100%|██████████| 32/32 [00:16<00:00,  1.89it/s]\n"
     ]
    },
    {
     "name": "stdout",
     "output_type": "stream",
     "text": [
      "Train Loss:3.46E-01, Test Loss:3.31E-01\n",
      "##############################################\n",
      "Epoch:35/100\n"
     ]
    },
    {
     "name": "stderr",
     "output_type": "stream",
     "text": [
      "100%|██████████| 125/125 [00:52<00:00,  2.38it/s]\n",
      "100%|██████████| 32/32 [00:17<00:00,  1.81it/s]\n"
     ]
    },
    {
     "name": "stdout",
     "output_type": "stream",
     "text": [
      "Train Loss:3.36E-01, Test Loss:3.12E-01\n",
      "##############################################\n",
      "Epoch:36/100\n"
     ]
    },
    {
     "name": "stderr",
     "output_type": "stream",
     "text": [
      "100%|██████████| 125/125 [00:55<00:00,  2.24it/s]\n",
      "100%|██████████| 32/32 [00:17<00:00,  1.82it/s]\n"
     ]
    },
    {
     "name": "stdout",
     "output_type": "stream",
     "text": [
      "Train Loss:3.27E-01, Test Loss:3.40E-01\n",
      "##############################################\n",
      "Epoch:37/100\n"
     ]
    },
    {
     "name": "stderr",
     "output_type": "stream",
     "text": [
      "100%|██████████| 125/125 [00:54<00:00,  2.29it/s]\n",
      "100%|██████████| 32/32 [00:17<00:00,  1.81it/s]\n"
     ]
    },
    {
     "name": "stdout",
     "output_type": "stream",
     "text": [
      "Train Loss:3.31E-01, Test Loss:3.41E-01\n",
      "##############################################\n",
      "Epoch:38/100\n"
     ]
    },
    {
     "name": "stderr",
     "output_type": "stream",
     "text": [
      "100%|██████████| 125/125 [00:54<00:00,  2.29it/s]\n",
      "100%|██████████| 32/32 [00:17<00:00,  1.84it/s]\n"
     ]
    },
    {
     "name": "stdout",
     "output_type": "stream",
     "text": [
      "Train Loss:3.39E-01, Test Loss:3.10E-01\n",
      "##############################################\n",
      "Epoch:39/100\n"
     ]
    },
    {
     "name": "stderr",
     "output_type": "stream",
     "text": [
      "100%|██████████| 125/125 [00:55<00:00,  2.24it/s]\n",
      "100%|██████████| 32/32 [00:17<00:00,  1.84it/s]\n"
     ]
    },
    {
     "name": "stdout",
     "output_type": "stream",
     "text": [
      "Train Loss:3.43E-01, Test Loss:3.14E-01\n",
      "##############################################\n",
      "Epoch:40/100\n"
     ]
    },
    {
     "name": "stderr",
     "output_type": "stream",
     "text": [
      "100%|██████████| 125/125 [00:56<00:00,  2.20it/s]\n",
      "100%|██████████| 32/32 [00:17<00:00,  1.82it/s]\n"
     ]
    },
    {
     "name": "stdout",
     "output_type": "stream",
     "text": [
      "Train Loss:3.34E-01, Test Loss:3.01E-01\n",
      "Best loss saved ...\n",
      "##############################################\n",
      "Epoch:41/100\n"
     ]
    },
    {
     "name": "stderr",
     "output_type": "stream",
     "text": [
      "100%|██████████| 125/125 [00:56<00:00,  2.23it/s]\n",
      "100%|██████████| 32/32 [00:17<00:00,  1.84it/s]\n"
     ]
    },
    {
     "name": "stdout",
     "output_type": "stream",
     "text": [
      "Train Loss:3.26E-01, Test Loss:3.73E-01\n"
     ]
    },
    {
     "name": "stderr",
     "output_type": "stream",
     "text": [
      "Clipping input data to the valid range for imshow with RGB data ([0..1] for floats or [0..255] for integers).\n",
      "Clipping input data to the valid range for imshow with RGB data ([0..1] for floats or [0..255] for integers).\n",
      "Clipping input data to the valid range for imshow with RGB data ([0..1] for floats or [0..255] for integers).\n"
     ]
    },
    {
     "data": {
      "image/png": "[encoded data removed]",
      "text/plain": [
       "<Figure size 600x400 with 3 Axes>"
      ]
     },
     "metadata": {},
     "output_type": "display_data"
    },
    {
     "name": "stdout",
     "output_type": "stream",
     "text": [
      "##############################################\n",
      "Epoch:42/100\n"
     ]
    },
    {
     "name": "stderr",
     "output_type": "stream",
     "text": [
      "100%|██████████| 125/125 [00:52<00:00,  2.38it/s]\n",
      "100%|██████████| 32/32 [00:14<00:00,  2.22it/s]\n"
     ]
    },
    {
     "name": "stdout",
     "output_type": "stream",
     "text": [
      "Train Loss:3.33E-01, Test Loss:3.01E-01\n",
      "##############################################\n",
      "Epoch:43/100\n"
     ]
    },
    {
     "name": "stderr",
     "output_type": "stream",
     "text": [
      "100%|██████████| 125/125 [00:52<00:00,  2.36it/s]\n",
      "100%|██████████| 32/32 [00:14<00:00,  2.21it/s]\n"
     ]
    },
    {
     "name": "stdout",
     "output_type": "stream",
     "text": [
      "Train Loss:3.34E-01, Test Loss:3.18E-01\n",
      "##############################################\n",
      "Epoch:44/100\n"
     ]
    },
    {
     "name": "stderr",
     "output_type": "stream",
     "text": [
      "100%|██████████| 125/125 [00:49<00:00,  2.52it/s]\n",
      "100%|██████████| 32/32 [00:17<00:00,  1.85it/s]\n"
     ]
    },
    {
     "name": "stdout",
     "output_type": "stream",
     "text": [
      "Train Loss:3.20E-01, Test Loss:3.51E-01\n",
      "##############################################\n",
      "Epoch:45/100\n"
     ]
    },
    {
     "name": "stderr",
     "output_type": "stream",
     "text": [
      "100%|██████████| 125/125 [00:55<00:00,  2.26it/s]\n",
      "100%|██████████| 32/32 [00:14<00:00,  2.17it/s]\n"
     ]
    },
    {
     "name": "stdout",
     "output_type": "stream",
     "text": [
      "Train Loss:3.30E-01, Test Loss:3.20E-01\n",
      "##############################################\n",
      "Epoch:46/100\n"
     ]
    },
    {
     "name": "stderr",
     "output_type": "stream",
     "text": [
      "100%|██████████| 125/125 [00:49<00:00,  2.54it/s]\n",
      "100%|██████████| 32/32 [00:14<00:00,  2.19it/s]\n"
     ]
    },
    {
     "name": "stdout",
     "output_type": "stream",
     "text": [
      "Train Loss:3.21E-01, Test Loss:3.23E-01\n",
      "##############################################\n",
      "Epoch:47/100\n"
     ]
    },
    {
     "name": "stderr",
     "output_type": "stream",
     "text": [
      "100%|██████████| 125/125 [00:55<00:00,  2.25it/s]\n",
      "100%|██████████| 32/32 [00:15<00:00,  2.06it/s]\n"
     ]
    },
    {
     "name": "stdout",
     "output_type": "stream",
     "text": [
      "Train Loss:3.16E-01, Test Loss:3.17E-01\n",
      "##############################################\n",
      "Epoch:48/100\n"
     ]
    },
    {
     "name": "stderr",
     "output_type": "stream",
     "text": [
      "100%|██████████| 125/125 [00:51<00:00,  2.42it/s]\n",
      "100%|██████████| 32/32 [00:16<00:00,  1.96it/s]\n"
     ]
    },
    {
     "name": "stdout",
     "output_type": "stream",
     "text": [
      "Train Loss:3.11E-01, Test Loss:3.33E-01\n",
      "##############################################\n",
      "Epoch:49/100\n"
     ]
    },
    {
     "name": "stderr",
     "output_type": "stream",
     "text": [
      "100%|██████████| 125/125 [00:52<00:00,  2.37it/s]\n",
      "100%|██████████| 32/32 [00:14<00:00,  2.15it/s]\n"
     ]
    },
    {
     "name": "stdout",
     "output_type": "stream",
     "text": [
      "Train Loss:3.17E-01, Test Loss:3.17E-01\n",
      "##############################################\n",
      "Epoch:50/100\n"
     ]
    },
    {
     "name": "stderr",
     "output_type": "stream",
     "text": [
      "100%|██████████| 125/125 [00:55<00:00,  2.23it/s]\n",
      "100%|██████████| 32/32 [00:15<00:00,  2.09it/s]\n"
     ]
    },
    {
     "name": "stdout",
     "output_type": "stream",
     "text": [
      "Train Loss:3.22E-01, Test Loss:3.14E-01\n",
      "##############################################\n",
      "Epoch:51/100\n"
     ]
    },
    {
     "name": "stderr",
     "output_type": "stream",
     "text": [
      "100%|██████████| 125/125 [00:55<00:00,  2.26it/s]\n",
      "100%|██████████| 32/32 [00:14<00:00,  2.22it/s]\n"
     ]
    },
    {
     "name": "stdout",
     "output_type": "stream",
     "text": [
      "Train Loss:3.21E-01, Test Loss:2.96E-01\n",
      "Best loss saved ...\n"
     ]
    },
    {
     "name": "stderr",
     "output_type": "stream",
     "text": [
      "Clipping input data to the valid range for imshow with RGB data ([0..1] for floats or [0..255] for integers).\n",
      "Clipping input data to the valid range for imshow with RGB data ([0..1] for floats or [0..255] for integers).\n",
      "Clipping input data to the valid range for imshow with RGB data ([0..1] for floats or [0..255] for integers).\n"
     ]
    },
    {
     "data": {
      "image/png": "[encoded data removed]",
      "text/plain": [
       "<Figure size 600x400 with 3 Axes>"
      ]
     },
     "metadata": {},
     "output_type": "display_data"
    },
    {
     "name": "stdout",
     "output_type": "stream",
     "text": [
      "##############################################\n",
      "Epoch:52/100\n"
     ]
    },
    {
     "name": "stderr",
     "output_type": "stream",
     "text": [
      "100%|██████████| 125/125 [00:49<00:00,  2.52it/s]\n",
      "100%|██████████| 32/32 [00:16<00:00,  1.93it/s]\n"
     ]
    },
    {
     "name": "stdout",
     "output_type": "stream",
     "text": [
      "Train Loss:2.97E-01, Test Loss:2.98E-01\n",
      "##############################################\n",
      "Epoch:53/100\n"
     ]
    },
    {
     "name": "stderr",
     "output_type": "stream",
     "text": [
      "100%|██████████| 125/125 [00:55<00:00,  2.27it/s]\n",
      "100%|██████████| 32/32 [00:17<00:00,  1.87it/s]\n"
     ]
    },
    {
     "name": "stdout",
     "output_type": "stream",
     "text": [
      "Train Loss:3.00E-01, Test Loss:3.29E-01\n",
      "##############################################\n",
      "Epoch:54/100\n"
     ]
    },
    {
     "name": "stderr",
     "output_type": "stream",
     "text": [
      "100%|██████████| 125/125 [00:51<00:00,  2.45it/s]\n",
      "100%|██████████| 32/32 [00:16<00:00,  1.90it/s]\n"
     ]
    },
    {
     "name": "stdout",
     "output_type": "stream",
     "text": [
      "Train Loss:3.02E-01, Test Loss:3.22E-01\n",
      "##############################################\n",
      "Epoch:55/100\n"
     ]
    },
    {
     "name": "stderr",
     "output_type": "stream",
     "text": [
      "100%|██████████| 125/125 [00:53<00:00,  2.33it/s]\n",
      "100%|██████████| 32/32 [00:14<00:00,  2.19it/s]\n"
     ]
    },
    {
     "name": "stdout",
     "output_type": "stream",
     "text": [
      "Train Loss:3.06E-01, Test Loss:3.16E-01\n",
      "##############################################\n",
      "Epoch:56/100\n"
     ]
    },
    {
     "name": "stderr",
     "output_type": "stream",
     "text": [
      "100%|██████████| 125/125 [00:52<00:00,  2.40it/s]\n",
      "100%|██████████| 32/32 [00:17<00:00,  1.84it/s]\n"
     ]
    },
    {
     "name": "stdout",
     "output_type": "stream",
     "text": [
      "Train Loss:3.08E-01, Test Loss:3.10E-01\n",
      "##############################################\n",
      "Epoch:57/100\n"
     ]
    },
    {
     "name": "stderr",
     "output_type": "stream",
     "text": [
      "100%|██████████| 125/125 [00:51<00:00,  2.41it/s]\n",
      "100%|██████████| 32/32 [00:13<00:00,  2.40it/s]\n"
     ]
    },
    {
     "name": "stdout",
     "output_type": "stream",
     "text": [
      "Train Loss:3.08E-01, Test Loss:3.07E-01\n",
      "##############################################\n",
      "Epoch:58/100\n"
     ]
    },
    {
     "name": "stderr",
     "output_type": "stream",
     "text": [
      "100%|██████████| 125/125 [00:56<00:00,  2.23it/s]\n",
      "100%|██████████| 32/32 [00:17<00:00,  1.83it/s]\n"
     ]
    },
    {
     "name": "stdout",
     "output_type": "stream",
     "text": [
      "Train Loss:2.94E-01, Test Loss:3.19E-01\n",
      "##############################################\n",
      "Epoch:59/100\n"
     ]
    },
    {
     "name": "stderr",
     "output_type": "stream",
     "text": [
      "100%|██████████| 125/125 [00:53<00:00,  2.35it/s]\n",
      "100%|██████████| 32/32 [00:14<00:00,  2.18it/s]\n"
     ]
    },
    {
     "name": "stdout",
     "output_type": "stream",
     "text": [
      "Train Loss:3.02E-01, Test Loss:3.26E-01\n",
      "##############################################\n",
      "Epoch:60/100\n"
     ]
    },
    {
     "name": "stderr",
     "output_type": "stream",
     "text": [
      "100%|██████████| 125/125 [00:51<00:00,  2.44it/s]\n",
      "100%|██████████| 32/32 [00:15<00:00,  2.09it/s]\n"
     ]
    },
    {
     "name": "stdout",
     "output_type": "stream",
     "text": [
      "Train Loss:3.08E-01, Test Loss:3.09E-01\n",
      "##############################################\n",
      "Epoch:61/100\n"
     ]
    },
    {
     "name": "stderr",
     "output_type": "stream",
     "text": [
      "100%|██████████| 125/125 [00:54<00:00,  2.30it/s]\n",
      "100%|██████████| 32/32 [00:16<00:00,  1.91it/s]\n",
      "Clipping input data to the valid range for imshow with RGB data ([0..1] for floats or [0..255] for integers).\n",
      "Clipping input data to the valid range for imshow with RGB data ([0..1] for floats or [0..255] for integers).\n",
      "Clipping input data to the valid range for imshow with RGB data ([0..1] for floats or [0..255] for integers).\n"
     ]
    },
    {
     "name": "stdout",
     "output_type": "stream",
     "text": [
      "Train Loss:3.02E-01, Test Loss:3.09E-01\n"
     ]
    },
    {
     "data": {
      "image/png": "[encoded data removed]",
      "text/plain": [
       "<Figure size 600x400 with 3 Axes>"
      ]
     },
     "metadata": {},
     "output_type": "display_data"
    },
    {
     "name": "stdout",
     "output_type": "stream",
     "text": [
      "##############################################\n",
      "Epoch:62/100\n"
     ]
    },
    {
     "name": "stderr",
     "output_type": "stream",
     "text": [
      "100%|██████████| 125/125 [00:55<00:00,  2.24it/s]\n",
      "100%|██████████| 32/32 [00:15<00:00,  2.08it/s]\n"
     ]
    },
    {
     "name": "stdout",
     "output_type": "stream",
     "text": [
      "Train Loss:2.89E-01, Test Loss:3.09E-01\n",
      "##############################################\n",
      "Epoch:63/100\n"
     ]
    },
    {
     "name": "stderr",
     "output_type": "stream",
     "text": [
      "100%|██████████| 125/125 [00:57<00:00,  2.17it/s]\n",
      "100%|██████████| 32/32 [00:18<00:00,  1.77it/s]\n"
     ]
    },
    {
     "name": "stdout",
     "output_type": "stream",
     "text": [
      "Train Loss:2.91E-01, Test Loss:3.07E-01\n",
      "##############################################\n",
      "Epoch:64/100\n"
     ]
    },
    {
     "name": "stderr",
     "output_type": "stream",
     "text": [
      "100%|██████████| 125/125 [00:55<00:00,  2.26it/s]\n",
      "100%|██████████| 32/32 [00:17<00:00,  1.83it/s]\n"
     ]
    },
    {
     "name": "stdout",
     "output_type": "stream",
     "text": [
      "Train Loss:2.98E-01, Test Loss:2.83E-01\n",
      "Best loss saved ...\n",
      "##############################################\n",
      "Epoch:65/100\n"
     ]
    },
    {
     "name": "stderr",
     "output_type": "stream",
     "text": [
      "100%|██████████| 125/125 [00:49<00:00,  2.55it/s]\n",
      "100%|██████████| 32/32 [00:15<00:00,  2.12it/s]\n"
     ]
    },
    {
     "name": "stdout",
     "output_type": "stream",
     "text": [
      "Train Loss:3.01E-01, Test Loss:3.14E-01\n",
      "##############################################\n",
      "Epoch:66/100\n"
     ]
    },
    {
     "name": "stderr",
     "output_type": "stream",
     "text": [
      "100%|██████████| 125/125 [00:56<00:00,  2.21it/s]\n",
      "100%|██████████| 32/32 [00:15<00:00,  2.06it/s]\n"
     ]
    },
    {
     "name": "stdout",
     "output_type": "stream",
     "text": [
      "Train Loss:2.86E-01, Test Loss:3.37E-01\n",
      "##############################################\n",
      "Epoch:67/100\n"
     ]
    },
    {
     "name": "stderr",
     "output_type": "stream",
     "text": [
      "100%|██████████| 125/125 [00:56<00:00,  2.20it/s]\n",
      "100%|██████████| 32/32 [00:17<00:00,  1.88it/s]\n"
     ]
    },
    {
     "name": "stdout",
     "output_type": "stream",
     "text": [
      "Train Loss:2.89E-01, Test Loss:3.20E-01\n",
      "##############################################\n",
      "Epoch:68/100\n"
     ]
    },
    {
     "name": "stderr",
     "output_type": "stream",
     "text": [
      "100%|██████████| 125/125 [00:55<00:00,  2.26it/s]\n",
      "100%|██████████| 32/32 [00:17<00:00,  1.88it/s]\n"
     ]
    },
    {
     "name": "stdout",
     "output_type": "stream",
     "text": [
      "Train Loss:2.94E-01, Test Loss:3.04E-01\n",
      "##############################################\n",
      "Epoch:69/100\n"
     ]
    },
    {
     "name": "stderr",
     "output_type": "stream",
     "text": [
      "100%|██████████| 125/125 [00:52<00:00,  2.40it/s]\n",
      "100%|██████████| 32/32 [00:14<00:00,  2.17it/s]\n"
     ]
    },
    {
     "name": "stdout",
     "output_type": "stream",
     "text": [
      "Train Loss:2.91E-01, Test Loss:3.11E-01\n",
      "##############################################\n",
      "Epoch:70/100\n"
     ]
    },
    {
     "name": "stderr",
     "output_type": "stream",
     "text": [
      "100%|██████████| 125/125 [00:54<00:00,  2.30it/s]\n",
      "100%|██████████| 32/32 [00:15<00:00,  2.13it/s]\n"
     ]
    },
    {
     "name": "stdout",
     "output_type": "stream",
     "text": [
      "Train Loss:2.78E-01, Test Loss:3.18E-01\n",
      "##############################################\n",
      "Epoch:71/100\n"
     ]
    },
    {
     "name": "stderr",
     "output_type": "stream",
     "text": [
      "100%|██████████| 125/125 [00:54<00:00,  2.29it/s]\n",
      "100%|██████████| 32/32 [00:14<00:00,  2.21it/s]\n",
      "Clipping input data to the valid range for imshow with RGB data ([0..1] for floats or [0..255] for integers).\n",
      "Clipping input data to the valid range for imshow with RGB data ([0..1] for floats or [0..255] for integers).\n",
      "Clipping input data to the valid range for imshow with RGB data ([0..1] for floats or [0..255] for integers).\n"
     ]
    },
    {
     "name": "stdout",
     "output_type": "stream",
     "text": [
      "Train Loss:2.83E-01, Test Loss:3.03E-01\n"
     ]
    },
    {
     "data": {
      "image/png": "[encoded data removed]",
      "text/plain": [
       "<Figure size 600x400 with 3 Axes>"
      ]
     },
     "metadata": {},
     "output_type": "display_data"
    },
    {
     "name": "stdout",
     "output_type": "stream",
     "text": [
      "##############################################\n",
      "Epoch:72/100\n"
     ]
    },
    {
     "name": "stderr",
     "output_type": "stream",
     "text": [
      "100%|██████████| 125/125 [00:56<00:00,  2.23it/s]\n",
      "100%|██████████| 32/32 [00:14<00:00,  2.23it/s]\n"
     ]
    },
    {
     "name": "stdout",
     "output_type": "stream",
     "text": [
      "Train Loss:2.95E-01, Test Loss:3.29E-01\n",
      "##############################################\n",
      "Epoch:73/100\n"
     ]
    },
    {
     "name": "stderr",
     "output_type": "stream",
     "text": [
      "100%|██████████| 125/125 [00:53<00:00,  2.33it/s]\n",
      "100%|██████████| 32/32 [00:17<00:00,  1.84it/s]\n"
     ]
    },
    {
     "name": "stdout",
     "output_type": "stream",
     "text": [
      "Train Loss:2.93E-01, Test Loss:3.07E-01\n",
      "##############################################\n",
      "Epoch:74/100\n"
     ]
    },
    {
     "name": "stderr",
     "output_type": "stream",
     "text": [
      "100%|██████████| 125/125 [00:51<00:00,  2.43it/s]\n",
      "100%|██████████| 32/32 [00:14<00:00,  2.17it/s]\n"
     ]
    },
    {
     "name": "stdout",
     "output_type": "stream",
     "text": [
      "Train Loss:2.80E-01, Test Loss:3.04E-01\n",
      "##############################################\n",
      "Epoch:75/100\n"
     ]
    },
    {
     "name": "stderr",
     "output_type": "stream",
     "text": [
      "100%|██████████| 125/125 [00:53<00:00,  2.32it/s]\n",
      "100%|██████████| 32/32 [00:17<00:00,  1.84it/s]\n"
     ]
    },
    {
     "name": "stdout",
     "output_type": "stream",
     "text": [
      "Train Loss:2.75E-01, Test Loss:3.01E-01\n",
      "##############################################\n",
      "Epoch:76/100\n"
     ]
    },
    {
     "name": "stderr",
     "output_type": "stream",
     "text": [
      "100%|██████████| 125/125 [00:56<00:00,  2.20it/s]\n",
      "100%|██████████| 32/32 [00:17<00:00,  1.82it/s]\n"
     ]
    },
    {
     "name": "stdout",
     "output_type": "stream",
     "text": [
      "Train Loss:2.72E-01, Test Loss:3.14E-01\n",
      "##############################################\n",
      "Epoch:77/100\n"
     ]
    },
    {
     "name": "stderr",
     "output_type": "stream",
     "text": [
      "100%|██████████| 125/125 [00:56<00:00,  2.21it/s]\n",
      "100%|██████████| 32/32 [00:14<00:00,  2.24it/s]\n"
     ]
    },
    {
     "name": "stdout",
     "output_type": "stream",
     "text": [
      "Train Loss:2.78E-01, Test Loss:3.06E-01\n",
      "##############################################\n",
      "Epoch:78/100\n"
     ]
    },
    {
     "name": "stderr",
     "output_type": "stream",
     "text": [
      "100%|██████████| 125/125 [00:50<00:00,  2.46it/s]\n",
      "100%|██████████| 32/32 [00:15<00:00,  2.10it/s]\n"
     ]
    },
    {
     "name": "stdout",
     "output_type": "stream",
     "text": [
      "Train Loss:2.80E-01, Test Loss:2.97E-01\n",
      "##############################################\n",
      "Epoch:79/100\n"
     ]
    },
    {
     "name": "stderr",
     "output_type": "stream",
     "text": [
      "100%|██████████| 125/125 [00:54<00:00,  2.30it/s]\n",
      "100%|██████████| 32/32 [00:17<00:00,  1.85it/s]\n"
     ]
    },
    {
     "name": "stdout",
     "output_type": "stream",
     "text": [
      "Train Loss:2.67E-01, Test Loss:3.01E-01\n",
      "##############################################\n",
      "Epoch:80/100\n"
     ]
    },
    {
     "name": "stderr",
     "output_type": "stream",
     "text": [
      "100%|██████████| 125/125 [00:52<00:00,  2.37it/s]\n",
      "100%|██████████| 32/32 [00:14<00:00,  2.20it/s]\n"
     ]
    },
    {
     "name": "stdout",
     "output_type": "stream",
     "text": [
      "Train Loss:2.89E-01, Test Loss:3.03E-01\n",
      "##############################################\n",
      "Epoch:81/100\n"
     ]
    },
    {
     "name": "stderr",
     "output_type": "stream",
     "text": [
      "100%|██████████| 125/125 [00:51<00:00,  2.42it/s]\n",
      "100%|██████████| 32/32 [00:15<00:00,  2.07it/s]\n",
      "Clipping input data to the valid range for imshow with RGB data ([0..1] for floats or [0..255] for integers).\n",
      "Clipping input data to the valid range for imshow with RGB data ([0..1] for floats or [0..255] for integers).\n",
      "Clipping input data to the valid range for imshow with RGB data ([0..1] for floats or [0..255] for integers).\n"
     ]
    },
    {
     "name": "stdout",
     "output_type": "stream",
     "text": [
      "Train Loss:2.74E-01, Test Loss:3.04E-01\n"
     ]
    },
    {
     "data": {
      "image/png": "[encoded data removed]",
      "text/plain": [
       "<Figure size 600x400 with 3 Axes>"
      ]
     },
     "metadata": {},
     "output_type": "display_data"
    },
    {
     "name": "stdout",
     "output_type": "stream",
     "text": [
      "##############################################\n",
      "Epoch:82/100\n"
     ]
    },
    {
     "name": "stderr",
     "output_type": "stream",
     "text": [
      "100%|██████████| 125/125 [00:56<00:00,  2.22it/s]\n",
      "100%|██████████| 32/32 [00:14<00:00,  2.25it/s]\n"
     ]
    },
    {
     "name": "stdout",
     "output_type": "stream",
     "text": [
      "Train Loss:2.78E-01, Test Loss:3.12E-01\n",
      "##############################################\n",
      "Epoch:83/100\n"
     ]
    },
    {
     "name": "stderr",
     "output_type": "stream",
     "text": [
      "100%|██████████| 125/125 [00:51<00:00,  2.44it/s]\n",
      "100%|██████████| 32/32 [00:14<00:00,  2.14it/s]\n"
     ]
    },
    {
     "name": "stdout",
     "output_type": "stream",
     "text": [
      "Train Loss:2.79E-01, Test Loss:2.93E-01\n",
      "##############################################\n",
      "Epoch:84/100\n"
     ]
    },
    {
     "name": "stderr",
     "output_type": "stream",
     "text": [
      "100%|██████████| 125/125 [00:54<00:00,  2.28it/s]\n",
      "100%|██████████| 32/32 [00:17<00:00,  1.85it/s]\n"
     ]
    },
    {
     "name": "stdout",
     "output_type": "stream",
     "text": [
      "Train Loss:2.60E-01, Test Loss:2.99E-01\n",
      "##############################################\n",
      "Epoch:85/100\n"
     ]
    },
    {
     "name": "stderr",
     "output_type": "stream",
     "text": [
      "100%|██████████| 125/125 [00:52<00:00,  2.38it/s]\n",
      "100%|██████████| 32/32 [00:14<00:00,  2.17it/s]\n"
     ]
    },
    {
     "name": "stdout",
     "output_type": "stream",
     "text": [
      "Train Loss:2.59E-01, Test Loss:2.90E-01\n",
      "##############################################\n",
      "Epoch:86/100\n"
     ]
    },
    {
     "name": "stderr",
     "output_type": "stream",
     "text": [
      "100%|██████████| 125/125 [00:55<00:00,  2.27it/s]\n",
      "100%|██████████| 32/32 [00:17<00:00,  1.86it/s]\n"
     ]
    },
    {
     "name": "stdout",
     "output_type": "stream",
     "text": [
      "Train Loss:2.77E-01, Test Loss:2.96E-01\n",
      "##############################################\n",
      "Epoch:87/100\n"
     ]
    },
    {
     "name": "stderr",
     "output_type": "stream",
     "text": [
      "100%|██████████| 125/125 [00:50<00:00,  2.47it/s]\n",
      "100%|██████████| 32/32 [00:10<00:00,  3.06it/s]\n"
     ]
    },
    {
     "name": "stdout",
     "output_type": "stream",
     "text": [
      "Train Loss:2.65E-01, Test Loss:3.20E-01\n",
      "##############################################\n",
      "Epoch:88/100\n"
     ]
    },
    {
     "name": "stderr",
     "output_type": "stream",
     "text": [
      "100%|██████████| 125/125 [00:53<00:00,  2.36it/s]\n",
      "100%|██████████| 32/32 [00:14<00:00,  2.16it/s]\n"
     ]
    },
    {
     "name": "stdout",
     "output_type": "stream",
     "text": [
      "Train Loss:2.61E-01, Test Loss:3.27E-01\n",
      "##############################################\n",
      "Epoch:89/100\n"
     ]
    },
    {
     "name": "stderr",
     "output_type": "stream",
     "text": [
      "100%|██████████| 125/125 [00:57<00:00,  2.19it/s]\n",
      "100%|██████████| 32/32 [00:15<00:00,  2.07it/s]\n"
     ]
    },
    {
     "name": "stdout",
     "output_type": "stream",
     "text": [
      "Train Loss:2.68E-01, Test Loss:3.19E-01\n",
      "##############################################\n",
      "Epoch:90/100\n"
     ]
    },
    {
     "name": "stderr",
     "output_type": "stream",
     "text": [
      "100%|██████████| 125/125 [00:58<00:00,  2.15it/s]\n",
      "100%|██████████| 32/32 [00:13<00:00,  2.35it/s]\n"
     ]
    },
    {
     "name": "stdout",
     "output_type": "stream",
     "text": [
      "Train Loss:2.59E-01, Test Loss:2.92E-01\n",
      "##############################################\n",
      "Epoch:91/100\n"
     ]
    },
    {
     "name": "stderr",
     "output_type": "stream",
     "text": [
      "100%|██████████| 125/125 [00:58<00:00,  2.15it/s]\n",
      "100%|██████████| 32/32 [00:15<00:00,  2.01it/s]\n",
      "Clipping input data to the valid range for imshow with RGB data ([0..1] for floats or [0..255] for integers).\n",
      "Clipping input data to the valid range for imshow with RGB data ([0..1] for floats or [0..255] for integers).\n",
      "Clipping input data to the valid range for imshow with RGB data ([0..1] for floats or [0..255] for integers).\n"
     ]
    },
    {
     "name": "stdout",
     "output_type": "stream",
     "text": [
      "Train Loss:2.56E-01, Test Loss:2.99E-01\n"
     ]
    },
    {
     "data": {
      "image/png": "[encoded data removed]",
      "text/plain": [
       "<Figure size 600x400 with 3 Axes>"
      ]
     },
     "metadata": {},
     "output_type": "display_data"
    },
    {
     "name": "stdout",
     "output_type": "stream",
     "text": [
      "##############################################\n",
      "Epoch:92/100\n"
     ]
    },
    {
     "name": "stderr",
     "output_type": "stream",
     "text": [
      "100%|██████████| 125/125 [00:57<00:00,  2.16it/s]\n",
      "100%|██████████| 32/32 [00:19<00:00,  1.67it/s]\n"
     ]
    },
    {
     "name": "stdout",
     "output_type": "stream",
     "text": [
      "Train Loss:2.61E-01, Test Loss:3.09E-01\n",
      "##############################################\n",
      "Epoch:93/100\n"
     ]
    },
    {
     "name": "stderr",
     "output_type": "stream",
     "text": [
      "100%|██████████| 125/125 [00:57<00:00,  2.18it/s]\n",
      "100%|██████████| 32/32 [00:19<00:00,  1.65it/s]\n"
     ]
    },
    {
     "name": "stdout",
     "output_type": "stream",
     "text": [
      "Train Loss:2.56E-01, Test Loss:2.85E-01\n",
      "##############################################\n",
      "Epoch:94/100\n"
     ]
    },
    {
     "name": "stderr",
     "output_type": "stream",
     "text": [
      "100%|██████████| 125/125 [00:38<00:00,  3.25it/s]\n",
      "100%|██████████| 32/32 [00:06<00:00,  4.58it/s]\n"
     ]
    },
    {
     "name": "stdout",
     "output_type": "stream",
     "text": [
      "Train Loss:2.59E-01, Test Loss:3.02E-01\n",
      "##############################################\n",
      "Epoch:95/100\n"
     ]
    },
    {
     "name": "stderr",
     "output_type": "stream",
     "text": [
      "100%|██████████| 125/125 [00:23<00:00,  5.22it/s]\n",
      "100%|██████████| 32/32 [00:07<00:00,  4.25it/s]\n"
     ]
    },
    {
     "name": "stdout",
     "output_type": "stream",
     "text": [
      "Train Loss:2.50E-01, Test Loss:3.13E-01\n",
      "##############################################\n",
      "Epoch:96/100\n"
     ]
    },
    {
     "name": "stderr",
     "output_type": "stream",
     "text": [
      "100%|██████████| 125/125 [00:23<00:00,  5.26it/s]\n",
      "100%|██████████| 32/32 [00:07<00:00,  4.28it/s]\n"
     ]
    },
    {
     "name": "stdout",
     "output_type": "stream",
     "text": [
      "Train Loss:2.56E-01, Test Loss:3.13E-01\n",
      "##############################################\n",
      "Epoch:97/100\n"
     ]
    },
    {
     "name": "stderr",
     "output_type": "stream",
     "text": [
      "100%|██████████| 125/125 [00:23<00:00,  5.24it/s]\n",
      "100%|██████████| 32/32 [00:07<00:00,  4.33it/s]\n"
     ]
    },
    {
     "name": "stdout",
     "output_type": "stream",
     "text": [
      "Train Loss:2.55E-01, Test Loss:3.29E-01\n",
      "##############################################\n",
      "Epoch:98/100\n"
     ]
    },
    {
     "name": "stderr",
     "output_type": "stream",
     "text": [
      "100%|██████████| 125/125 [00:23<00:00,  5.25it/s]\n",
      "100%|██████████| 32/32 [00:07<00:00,  4.35it/s]\n"
     ]
    },
    {
     "name": "stdout",
     "output_type": "stream",
     "text": [
      "Train Loss:2.51E-01, Test Loss:2.98E-01\n",
      "##############################################\n",
      "Epoch:99/100\n"
     ]
    },
    {
     "name": "stderr",
     "output_type": "stream",
     "text": [
      "100%|██████████| 125/125 [00:23<00:00,  5.23it/s]\n",
      "100%|██████████| 32/32 [00:07<00:00,  4.30it/s]\n"
     ]
    },
    {
     "name": "stdout",
     "output_type": "stream",
     "text": [
      "Train Loss:2.56E-01, Test Loss:3.22E-01\n",
      "##############################################\n",
      "Epoch:100/100\n"
     ]
    },
    {
     "name": "stderr",
     "output_type": "stream",
     "text": [
      "100%|██████████| 125/125 [00:23<00:00,  5.27it/s]\n",
      "100%|██████████| 32/32 [00:07<00:00,  4.26it/s]\n"
     ]
    },
    {
     "name": "stdout",
     "output_type": "stream",
     "text": [
      "Train Loss:2.55E-01, Test Loss:3.01E-01\n"
     ]
    }
   ],
   "source": [
    "from tqdm import tqdm\n",
    "\n",
    "train_loss_list = []\n",
    "test_loss_list = []\n",
    "best_loss = 100\n",
    "for i in range(epoch):\n",
    "    print(\"##############################################\")\n",
    "    print(\"Epoch:{}/{}\".format(i+1,epoch))\n",
    "    train_loss = 0\n",
    "    test_loss = 0\n",
    "\n",
    "    speaker.train()\n",
    "    for cols,lang,label in tqdm(train_batch):\n",
    "        cols, lang, label = cols.to(device), lang.type(torch.LongTensor).to(device), label.to(device)\n",
    "        optimizer.zero_grad()\n",
    "        output = speaker(cols, label, lang)\n",
    "        # Compute the loss\n",
    "        output_view = output.view(-1, output.shape[-1])\n",
    "        target = lang[:,1:].reshape(-1)\n",
    "        lang_loss = criterion(output_view, target)\n",
    "        lang_loss.backward(retain_graph=True)\n",
    "        optimizer.step()\n",
    "        train_loss += lang_loss.item()\n",
    "        #break\n",
    "    batch_train_loss = train_loss/len(train_batch)\n",
    "\n",
    "    accs = []\n",
    "    speaker.eval()\n",
    "    with torch.no_grad():\n",
    "        for cols,lang,label in tqdm(test_batch):\n",
    "            cols, lang, label = cols.to(device), lang.type(torch.LongTensor).to(device), label.to(device)\n",
    "            output = speaker(cols, label, lang)\n",
    "            target_col, target_shape = cnn_color_encoder(cols[:,0]), cnn_shape_encoder(cols[:,0])\n",
    "            target_cols = [list(COLOR.keys())[int(torch.argmax(col_vec))] for col_vec in target_col]\n",
    "            target_shapes = [list(SHAPE.keys())[int(torch.argmax(shape_vec))] for shape_vec in target_shape]\n",
    "            direct_target_utter = [c+\" \"+s for c,s in zip(target_cols,target_shapes)]\n",
    "            output_view = output.view(-1, output.shape[-1])\n",
    "            target = lang[:,1:].reshape(-1)\n",
    "            lang_loss = criterion(output_view, target)\n",
    "            test_loss += lang_loss.item()\n",
    "            generated,lang_probs = speaker.generate(cols,label,max_len=max_len)\n",
    "            #break\n",
    "        batch_test_loss = test_loss/len(test_batch)\n",
    "\n",
    "    print(\"Train Loss:{:.2E}, Test Loss:{:.2E}\".format(batch_train_loss,batch_test_loss))\n",
    "    train_loss_list.append(batch_train_loss)\n",
    "    test_loss_list.append(batch_test_loss)\n",
    "    if batch_test_loss < best_loss:\n",
    "        print(\"Best loss saved ...\")\n",
    "        torch.save(speaker.to(device).state_dict(),\"model_params/shapeworld_S1-GPT2-decoder_loss=Lang_best-loss_freeze-1_100epoch.pth\")\n",
    "        best_loss = batch_test_loss\n",
    "    if i%10 == 0:\n",
    "        id = np.random.randint(len(cols))\n",
    "        cols = cols[id].to(\"cpu\")\n",
    "        c_langs = tokenizer.decode([idx for idx in lang[id].to(\"cpu\").tolist() if idx not in [PAD,SOS,EOS]]).split(\" \")\n",
    "        g_langs = tokenizer.decode([idx for idx in output.argmax(2)[id].to(\"cpu\").tolist() if idx not in [PAD,SOS,EOS]]).split(\" \")\n",
    "        lis_label = torch.zeros(3)\n",
    "        lis_label[0] = 1.0\n",
    "        check_data(cols, c_langs, g_langs, lis_label, cscnn=direct_target_utter[id],gg_lang=tokenizer.decode(generated[id]))\n",
    "    #break"
   ]
  },
  {
   "attachments": {},
   "cell_type": "markdown",
   "metadata": {},
   "source": [
    "## Accuracy"
   ]
  },
  {
   "cell_type": "code",
   "execution_count": 25,
   "metadata": {},
   "outputs": [
    {
     "name": "stderr",
     "output_type": "stream",
     "text": [
      "Some weights of the model checkpoint at bert-base-uncased were not used when initializing BertModel: ['cls.predictions.bias', 'cls.predictions.transform.dense.bias', 'cls.predictions.transform.LayerNorm.bias', 'cls.predictions.transform.dense.weight', 'cls.seq_relationship.weight', 'cls.seq_relationship.bias', 'cls.predictions.decoder.weight', 'cls.predictions.transform.LayerNorm.weight']\n",
      "- This IS expected if you are initializing BertModel from the checkpoint of a model trained on another task or with another architecture (e.g. initializing a BertForSequenceClassification model from a BertForPreTraining model).\n",
      "- This IS NOT expected if you are initializing BertModel from the checkpoint of a model that you expect to be exactly identical (initializing a BertForSequenceClassification model from a BertForSequenceClassification model).\n",
      "Some weights of GPT2LMHeadModel were not initialized from the model checkpoint at distilgpt2 and are newly initialized: ['transformer.h.0.crossattention.c_proj.weight', 'transformer.h.4.ln_cross_attn.weight', 'transformer.h.1.crossattention.q_attn.weight', 'transformer.h.0.crossattention.q_attn.weight', 'transformer.h.3.crossattention.bias', 'transformer.h.1.crossattention.c_proj.weight', 'transformer.h.5.crossattention.masked_bias', 'transformer.h.4.crossattention.q_attn.weight', 'transformer.h.3.crossattention.q_attn.weight', 'transformer.h.4.crossattention.c_attn.weight', 'transformer.h.5.crossattention.c_proj.weight', 'transformer.h.4.crossattention.masked_bias', 'transformer.h.5.crossattention.q_attn.weight', 'transformer.h.0.crossattention.bias', 'transformer.h.4.crossattention.c_proj.weight', 'transformer.h.4.crossattention.c_proj.bias', 'transformer.h.3.crossattention.masked_bias', 'transformer.h.2.crossattention.c_proj.weight', 'transformer.h.1.crossattention.masked_bias', 'transformer.h.4.crossattention.bias', 'transformer.h.1.crossattention.c_proj.bias', 'transformer.h.2.ln_cross_attn.weight', 'transformer.h.5.ln_cross_attn.weight', 'transformer.h.2.crossattention.c_proj.bias', 'transformer.h.2.crossattention.masked_bias', 'transformer.h.3.crossattention.c_attn.weight', 'transformer.h.0.crossattention.c_attn.weight', 'transformer.h.2.crossattention.bias', 'transformer.h.0.crossattention.masked_bias', 'transformer.h.5.crossattention.c_attn.weight', 'transformer.h.5.crossattention.bias', 'transformer.h.2.crossattention.q_attn.weight', 'transformer.h.3.crossattention.c_proj.weight', 'transformer.h.3.ln_cross_attn.weight', 'transformer.h.0.ln_cross_attn.weight', 'transformer.h.1.crossattention.bias', 'transformer.h.1.ln_cross_attn.weight', 'transformer.h.1.crossattention.c_attn.weight', 'transformer.h.2.crossattention.c_attn.weight', 'transformer.h.5.crossattention.c_proj.bias', 'transformer.h.3.crossattention.c_proj.bias', 'transformer.h.0.crossattention.c_proj.bias']\n",
      "You should probably TRAIN this model on a down-stream task to be able to use it for predictions and inference.\n"
     ]
    },
    {
     "name": "stdout",
     "output_type": "stream",
     "text": [
      "Model loaded ...\n"
     ]
    },
    {
     "name": "stderr",
     "output_type": "stream",
     "text": [
      "c:\\Users\\mange\\miniconda3\\envs\\rsa\\lib\\site-packages\\torch\\nn\\modules\\rnn.py:67: UserWarning: dropout option adds dropout after all but last recurrent layer, so non-zero dropout expects num_layers greater than 1, but got dropout=0.5 and num_layers=1\n",
      "  warnings.warn(\"dropout option adds dropout after all but last \"\n"
     ]
    }
   ],
   "source": [
    "from tqdm import tqdm\n",
    "from literal_listener_shapeworld import ShapeWorld_RNN_L0, CNN_encoder\n",
    "\n",
    "feat_dim = 10\n",
    "speaker = S1_EncoderDecoder(input_size=feat_dim).to(device)\n",
    "best = \"model_params/shapeworld_S1-GPT2-decoder_loss=Lang_best-loss_freeze-1_100epoch.pth\"\n",
    "speaker.load_state_dict(torch.load(best,map_location=device))\n",
    "speaker.to(device)\n",
    "\n",
    "literal_listener = ShapeWorld_RNN_L0(len(w2i)).to(device)\n",
    "literal_listener.load_state_dict(torch.load(\"model_params\\shapeworld_rnn_full-data_100epoch_l0_last.pth\",map_location=device))\n",
    "\n",
    "print(\"Model loaded ...\")\n",
    "\n",
    "optimizer = optim.Adam(speaker.parameters(),lr=0.001)\n",
    "criterion = nn.CrossEntropyLoss()\n",
    "\n",
    "max_len = 5\n"
   ]
  },
  {
   "attachments": {},
   "cell_type": "markdown",
   "metadata": {},
   "source": [
    "### L0 accuracy"
   ]
  },
  {
   "cell_type": "code",
   "execution_count": 26,
   "metadata": {},
   "outputs": [
    {
     "name": "stdout",
     "output_type": "stream",
     "text": [
      "white shape  :  whiteshape\n",
      "white square  :  whitesquare\n",
      "white circle  :  whitecircle\n",
      "white rectangle  :  whiterectangle\n",
      "white ellipse  :  whiteellipse\n",
      "white  :  white\n",
      "green shape  :  greenshape\n",
      "green square  :  greensquare\n",
      "green circle  :  greencircle\n",
      "green rectangle  :  greenrectangle\n",
      "green ellipse  :  greenellipse\n",
      "green  :  green\n",
      "gray shape  :  grayshape\n",
      "gray square  :  graysquare\n",
      "gray circle  :  graycircle\n",
      "gray rectangle  :  grayrectangle\n",
      "gray ellipse  :  grayellipse\n",
      "gray  :  gray\n",
      "yellow shape  :  yellowshape\n",
      "yellow square  :  yellowsquare\n",
      "yellow circle  :  yellowcircle\n",
      "yellow rectangle  :  yellowrectangle\n",
      "yellow ellipse  :  yellowellipse\n",
      "yellow  :  yellow\n",
      "red shape  :  redshape\n",
      "red square  :  redsquare\n",
      "red circle  :  redcircle\n",
      "red rectangle  :  redrectangle\n",
      "red ellipse  :  redellipse\n",
      "red  :  red\n",
      "blue shape  :  blueshape\n",
      "blue square  :  bluesquare\n",
      "blue circle  :  bluecircle\n",
      "blue rectangle  :  bluerectangle\n",
      "blue ellipse  :  blueellipse\n",
      "blue  :  blue\n",
      "shape  :  shape\n",
      "square  :  square\n",
      "circle  :  circle\n",
      "rectangle  :  rectangle\n",
      "ellipse  :  ellipse\n",
      "  :  \n"
     ]
    }
   ],
   "source": [
    "col_list = list(COLOR.keys())\n",
    "col_list[-1] = \"\"\n",
    "shape_list = list(SHAPE.keys())\n",
    "utter_list = [\" \".join([w for w in (c+\" \"+s).split(\" \") if w]) for c in col_list for s in shape_list+[\"\"]]\n",
    "gpt_utter_list = [\"\".join([w for w in (c+\" \"+s).split(\" \") if w]) for c in col_list for s in shape_list+[\"\"]]\n",
    "vocab2gpt = {g:u for u,g in zip(utter_list,gpt_utter_list)}\n",
    "for g,u in vocab2gpt.items():\n",
    "    print(u,\" : \",g)"
   ]
  },
  {
   "cell_type": "code",
   "execution_count": 27,
   "metadata": {},
   "outputs": [],
   "source": [
    "from nltk.tokenize import word_tokenize\n",
    "from functools import reduce\n",
    "\n",
    "def decode_gpt_vocab(w):\n",
    "    if w in w2i.keys(): \n",
    "        return [w2i[w]]\n",
    "    elif w in vocab2gpt.keys():\n",
    "        return [w2i[t] for t in vocab2gpt[w].split(\" \")]\n",
    "    else:\n",
    "        return [original_UNK]\n",
    "\n",
    "def gpt_lang2L0_lang(generated_langs):\n",
    "    langs = [tokenizer.decode([idx for idx in generated if idx not in [PAD,SOS,EOS]]) for generated in generated_langs]\n",
    "    tokens = []\n",
    "    for l in langs:\n",
    "        decoded = [decode_gpt_vocab(w) for w in word_tokenize(l)]+[[],[]]\n",
    "        tokens.append(list(reduce(lambda x,y:x+y,decoded)))\n",
    "    max_tokens_len = max([len(t) for t in tokens])\n",
    "    padded_tokens = torch.tensor(np.array([[original_SOS]+ts+[original_EOS]+[original_PAD]*(max_tokens_len-len(ts)) for ts in tokens]))\n",
    "    return padded_tokens"
   ]
  },
  {
   "cell_type": "code",
   "execution_count": 28,
   "metadata": {},
   "outputs": [
    {
     "name": "stderr",
     "output_type": "stream",
     "text": [
      "Clipping input data to the valid range for imshow with RGB data ([0..1] for floats or [0..255] for integers).\n",
      "Clipping input data to the valid range for imshow with RGB data ([0..1] for floats or [0..255] for integers).\n",
      "Clipping input data to the valid range for imshow with RGB data ([0..1] for floats or [0..255] for integers).\n"
     ]
    },
    {
     "name": "stdout",
     "output_type": "stream",
     "text": [
      "1 / 32\n",
      "['<sos>', 'circle', '<eos>', '<PAD>']\n"
     ]
    },
    {
     "data": {
      "image/png": "[encoded data removed]",
      "text/plain": [
       "<Figure size 600x400 with 3 Axes>"
      ]
     },
     "metadata": {},
     "output_type": "display_data"
    },
    {
     "name": "stderr",
     "output_type": "stream",
     "text": [
      "Clipping input data to the valid range for imshow with RGB data ([0..1] for floats or [0..255] for integers).\n",
      "Clipping input data to the valid range for imshow with RGB data ([0..1] for floats or [0..255] for integers).\n",
      "Clipping input data to the valid range for imshow with RGB data ([0..1] for floats or [0..255] for integers).\n"
     ]
    },
    {
     "name": "stdout",
     "output_type": "stream",
     "text": [
      "11 / 32\n",
      "['<sos>', '<eos>', '<PAD>', '<PAD>']\n"
     ]
    },
    {
     "data": {
      "image/png": "[encoded data removed]",
      "text/plain": [
       "<Figure size 600x400 with 3 Axes>"
      ]
     },
     "metadata": {},
     "output_type": "display_data"
    },
    {
     "name": "stderr",
     "output_type": "stream",
     "text": [
      "Clipping input data to the valid range for imshow with RGB data ([0..1] for floats or [0..255] for integers).\n",
      "Clipping input data to the valid range for imshow with RGB data ([0..1] for floats or [0..255] for integers).\n",
      "Clipping input data to the valid range for imshow with RGB data ([0..1] for floats or [0..255] for integers).\n"
     ]
    },
    {
     "name": "stdout",
     "output_type": "stream",
     "text": [
      "21 / 32\n",
      "['<sos>', '<eos>', '<PAD>', '<PAD>']\n"
     ]
    },
    {
     "data": {
      "image/png": "[encoded data removed]",
      "text/plain": [
       "<Figure size 600x400 with 3 Axes>"
      ]
     },
     "metadata": {},
     "output_type": "display_data"
    },
    {
     "name": "stderr",
     "output_type": "stream",
     "text": [
      "Clipping input data to the valid range for imshow with RGB data ([0..1] for floats or [0..255] for integers).\n",
      "Clipping input data to the valid range for imshow with RGB data ([0..1] for floats or [0..255] for integers).\n",
      "Clipping input data to the valid range for imshow with RGB data ([0..1] for floats or [0..255] for integers).\n"
     ]
    },
    {
     "name": "stdout",
     "output_type": "stream",
     "text": [
      "31 / 32\n",
      "['<sos>', 'gray', 'shape', '<eos>']\n"
     ]
    },
    {
     "data": {
      "image/png": "[encoded data removed]",
      "text/plain": [
       "<Figure size 600x400 with 3 Axes>"
      ]
     },
     "metadata": {},
     "output_type": "display_data"
    },
    {
     "name": "stdout",
     "output_type": "stream",
     "text": [
      "Accuracy:  0.6220703125\n"
     ]
    }
   ],
   "source": [
    "accs = []\n",
    "speaker.eval()\n",
    "#speaker = speaker.cpu()\n",
    "with torch.no_grad():\n",
    "    for i,(cols,lang,label) in enumerate(test_batch):\n",
    "        cols, lang, label = cols.to(device), lang.to(device), label.to(device)\n",
    "        generated_lang, lang_probs = speaker.generate(cols,label,max_len=max_len)\n",
    "        output_lang = gpt_lang2L0_lang(generated_lang).to(device)\n",
    "        literal_listener.eval()\n",
    "        #literal_listener = literal_listener.cpu()\n",
    "        lis_labels = literal_listener(cols, output_lang)\n",
    "        pred_labels = torch.argmax(lis_labels,dim=1)\n",
    "        correct_labels = torch.zeros(cols.shape[0])\n",
    "        acc = sum(correct_labels.to(device)==pred_labels)/len(correct_labels)\n",
    "        accs.append(acc.item())\n",
    "        if i%10 == 0:\n",
    "            print(i+1,\"/\",len(test_batch))\n",
    "            id = np.random.randint(len(cols))\n",
    "            cols = cols[id].to(\"cpu\")\n",
    "            print([i2w[int(idx)] for idx in output_lang[id]])\n",
    "            c_langs = tokenizer.decode([idx for idx in lang[id].to(\"cpu\").tolist() if idx not in [PAD,SOS,EOS]]).split(\" \")\n",
    "            g_langs = tokenizer.decode([idx for idx in generated_lang[id].to(\"cpu\").tolist() if idx not in [PAD,SOS,EOS]]).split(\" \")\n",
    "            label = label[id]\n",
    "            #print(int(torch.argmax(lis_labels[id])))\n",
    "            check_data(cols, c_langs, g_langs, lis_labels[id])\n",
    "\n",
    "print(\"Accuracy: \",np.mean(accs))"
   ]
  },
  {
   "attachments": {},
   "cell_type": "markdown",
   "metadata": {},
   "source": [
    "### L1 accuracy"
   ]
  },
  {
   "cell_type": "code",
   "execution_count": 29,
   "metadata": {},
   "outputs": [
    {
     "name": "stderr",
     "output_type": "stream",
     "text": [
      "Clipping input data to the valid range for imshow with RGB data ([0..1] for floats or [0..255] for integers).\n",
      "Clipping input data to the valid range for imshow with RGB data ([0..1] for floats or [0..255] for integers).\n",
      "Clipping input data to the valid range for imshow with RGB data ([0..1] for floats or [0..255] for integers).\n"
     ]
    },
    {
     "data": {
      "image/png": "[encoded data removed]",
      "text/plain": [
       "<Figure size 600x400 with 3 Axes>"
      ]
     },
     "metadata": {},
     "output_type": "display_data"
    },
    {
     "name": "stdout",
     "output_type": "stream",
     "text": [
      "tensor([2.7174, 1.0000, 1.0003])\n",
      "tensor([1, 1, 1])\n"
     ]
    },
    {
     "name": "stderr",
     "output_type": "stream",
     "text": [
      "Clipping input data to the valid range for imshow with RGB data ([0..1] for floats or [0..255] for integers).\n",
      "Clipping input data to the valid range for imshow with RGB data ([0..1] for floats or [0..255] for integers).\n",
      "Clipping input data to the valid range for imshow with RGB data ([0..1] for floats or [0..255] for integers).\n"
     ]
    },
    {
     "data": {
      "image/png": "[encoded data removed]",
      "text/plain": [
       "<Figure size 600x400 with 3 Axes>"
      ]
     },
     "metadata": {},
     "output_type": "display_data"
    },
    {
     "name": "stdout",
     "output_type": "stream",
     "text": [
      "tensor([1.7802, 1.5270, 1.0000])\n",
      "tensor([1, 1, 1])\n"
     ]
    },
    {
     "name": "stderr",
     "output_type": "stream",
     "text": [
      "Clipping input data to the valid range for imshow with RGB data ([0..1] for floats or [0..255] for integers).\n",
      "Clipping input data to the valid range for imshow with RGB data ([0..1] for floats or [0..255] for integers).\n",
      "Clipping input data to the valid range for imshow with RGB data ([0..1] for floats or [0..255] for integers).\n"
     ]
    },
    {
     "data": {
      "image/png": "[encoded data removed]",
      "text/plain": [
       "<Figure size 600x400 with 3 Axes>"
      ]
     },
     "metadata": {},
     "output_type": "display_data"
    },
    {
     "name": "stdout",
     "output_type": "stream",
     "text": [
      "tensor([2.7154, 1.0000, 1.0011])\n",
      "tensor([1, 1, 1])\n"
     ]
    },
    {
     "name": "stderr",
     "output_type": "stream",
     "text": [
      "Clipping input data to the valid range for imshow with RGB data ([0..1] for floats or [0..255] for integers).\n",
      "Clipping input data to the valid range for imshow with RGB data ([0..1] for floats or [0..255] for integers).\n",
      "Clipping input data to the valid range for imshow with RGB data ([0..1] for floats or [0..255] for integers).\n"
     ]
    },
    {
     "data": {
      "image/png": "[encoded data removed]",
      "text/plain": [
       "<Figure size 600x400 with 3 Axes>"
      ]
     },
     "metadata": {},
     "output_type": "display_data"
    },
    {
     "name": "stdout",
     "output_type": "stream",
     "text": [
      "tensor([2.7156, 1.0000, 1.0010])\n",
      "tensor([1, 1, 1])\n",
      "Loss:  0.7127579133957624\n",
      "Accuracy:  0.814453125\n"
     ]
    }
   ],
   "source": [
    "losss = []\n",
    "accs = []\n",
    "speaker.eval()\n",
    "\n",
    "for i,(cols,lang,label) in enumerate(test_batch):\n",
    "    cols, lang, label = cols.to(device).to(torch.float), lang.to(device), label.to(device).to(torch.float)\n",
    "    # for 1st image\n",
    "    label01 = torch.zeros_like(label)\n",
    "    label01[:,0] = 1.0\n",
    "    generated_lang1, lang_probs1 = speaker.generate(cols,label01,max_len=max_len)\n",
    "    # for 2nd image\n",
    "    label02 = torch.zeros_like(label)\n",
    "    label02[:,1] = 1.0\n",
    "    generated_lang2, lang_probs2 = speaker.generate(cols,label02,max_len=max_len)\n",
    "    # for 3rd image\n",
    "    label03 = torch.zeros_like(label)\n",
    "    label03[:,2] = 1.0\n",
    "    generated_lang3, lang_probs3 = speaker.generate(cols,label03,max_len=max_len)\n",
    "    \n",
    "    # compute the probability\n",
    "    prob01 = [[torch.log(word_dist[idx]+0.001).to(\"cpu\").detach() for word_dist,idx in zip(sent,idxs)] \\\n",
    "              for batch,(sent,idxs) in enumerate(zip(lang_probs1,lang))]\n",
    "    prob01_sums = list(map(sum,prob01))\n",
    "    prob02 = [[torch.log(word_dist[idx]+0.001).to(\"cpu\").detach() for word_dist,idx in zip(sent,idxs)] \\\n",
    "              for batch,(sent,idxs) in enumerate(zip(lang_probs2,lang))]\n",
    "    prob02_sums = list(map(sum,prob02))\n",
    "    prob03 = [[torch.log(word_dist[idx]+0.001).to(\"cpu\").detach() for word_dist,idx in zip(sent,idxs)] \\\n",
    "              for batch,(sent,idxs) in enumerate(zip(lang_probs3,lang))]\n",
    "    prob03_sums = list(map(sum,prob03))\n",
    "    probs = F.softmax(torch.tensor(np.array([prob01_sums,prob02_sums,prob03_sums])).transpose(0,1),dim=-1)\n",
    "    #print(probs)\n",
    "    loss = criterion(probs.to(device),label)\n",
    "    losss.append(loss.item())\n",
    "    pred_labels = torch.argmax(probs,dim=1)\n",
    "    correct_labels = torch.zeros(cols.shape[0])\n",
    "    acc = sum(correct_labels==pred_labels)/len(correct_labels)\n",
    "    accs.append(acc.item())\n",
    "    \n",
    "    if i%10 == 0:\n",
    "        id = np.random.randint(len(cols))\n",
    "        imgs = cols[id].to(\"cpu\")\n",
    "        c_langs = tokenizer.decode([idx for idx in lang[id].to(\"cpu\").tolist() if idx not in [PAD,SOS,EOS]]).split(\" \")\n",
    "        g_langs = tokenizer.decode([idx for idx in generated_lang1[id].to(\"cpu\").tolist() if idx not in [PAD,SOS,EOS]]).split(\" \")\\\n",
    "                + [\"|\"]+ tokenizer.decode([idx for idx in generated_lang2[id].to(\"cpu\").tolist() if idx not in [PAD,SOS,EOS]]).split(\" \") \\\n",
    "                + [\"|\"]+ tokenizer.decode([idx for idx in generated_lang3[id].to(\"cpu\").tolist() if idx not in [PAD,SOS,EOS]]).split(\" \")\n",
    "        label = label[id]\n",
    "        check_data(imgs, c_langs, g_langs, probs[id])\n",
    "        print(torch.exp(probs[id]))\n",
    "        print(torch.where(torch.exp(probs[id])>0.1,1,0))\n",
    "\n",
    "print(\"Loss: \",np.mean(losss))\n",
    "print(\"Accuracy: \",np.mean(accs))"
   ]
  }
 ],
 "metadata": {
  "kernelspec": {
   "display_name": "rsa",
   "language": "python",
   "name": "python3"
  },
  "language_info": {
   "codemirror_mode": {
    "name": "ipython",
    "version": 3
   },
   "file_extension": ".py",
   "mimetype": "text/x-python",
   "name": "python",
   "nbconvert_exporter": "python",
   "pygments_lexer": "ipython3",
   "version": "3.10.9"
  },
  "orig_nbformat": 4
 },
 "nbformat": 4,
 "nbformat_minor": 2
}
