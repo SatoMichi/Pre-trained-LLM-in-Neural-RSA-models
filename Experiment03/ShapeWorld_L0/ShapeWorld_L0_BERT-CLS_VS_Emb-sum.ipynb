{
 "cells": [
  {
   "cell_type": "code",
   "execution_count": null,
   "metadata": {},
   "outputs": [],
   "source": [
    "from pathlib import Path\n",
    "import os\n",
    "import numpy as np\n",
    "import matplotlib.pyplot as plt\n",
    "import torch\n",
    "from torch import nn\n",
    "from torch import optim\n",
    "from torch.nn import functional as F\n",
    "from torch.utils.data import DataLoader\n",
    "from shapeworld_data import load_raw_data, get_vocab, ShapeWorld"
   ]
  },
  {
   "cell_type": "code",
   "execution_count": null,
   "metadata": {},
   "outputs": [],
   "source": [
    "device = torch.device(\"cuda\" if torch.cuda.is_available() else \"cpu\")\n",
    "print(\"Device = \",device)"
   ]
  },
  {
   "attachments": {},
   "cell_type": "markdown",
   "metadata": {},
   "source": [
    "## Prepare the data for Normal L0 model"
   ]
  },
  {
   "attachments": {},
   "cell_type": "markdown",
   "metadata": {},
   "source": [
    "### Load raw data"
   ]
  },
  {
   "cell_type": "code",
   "execution_count": null,
   "metadata": {},
   "outputs": [],
   "source": [
    "root = Path(os.path.abspath('')).parent.parent.parent.absolute()\n",
    "data_path = os.path.join(root,\"data\\shapeworld_np\")\n",
    "print(data_path)\n",
    "data_list = os.listdir(data_path)\n",
    "print(data_list)"
   ]
  },
  {
   "attachments": {},
   "cell_type": "markdown",
   "metadata": {},
   "source": [
    "### Generate Vocab_dict"
   ]
  },
  {
   "cell_type": "code",
   "execution_count": null,
   "metadata": {},
   "outputs": [],
   "source": [
    "vocab = get_vocab([os.path.join(data_path,d) for d in data_list])\n",
    "print(vocab[\"w2i\"])\n",
    "\n",
    "COLOR = {\"white\":[1,0,0,0,0,0], \"green\":[0,1,0,0,0,0], \"gray\":[0,0,1,0,0,0], \"yellow\":[0,0,0,1,0,0], \"red\":[0,0,0,0,1,0], \"blue\":[0,0,0,0,0,1], \"other\":[0,0,0,0,0,0]}\n",
    "SHAPE = {\"shape\":[0,0,0,0], \"square\":[1,0,0,0], \"circle\":[0,1,0,0], \"rectangle\":[0,0,1,0], \"ellipse\":[0,0,0,1]}\n",
    "\n",
    "original_PAD = 0\n",
    "original_SOS = 1\n",
    "original_EOS = 2\n",
    "original_UNK = 3\n",
    "\n",
    "w2i = vocab[\"w2i\"]\n",
    "i2w = vocab[\"i2w\"]"
   ]
  },
  {
   "attachments": {},
   "cell_type": "markdown",
   "metadata": {},
   "source": [
    "### Prepapre train data and test loaders"
   ]
  },
  {
   "cell_type": "code",
   "execution_count": null,
   "metadata": {},
   "outputs": [],
   "source": [
    "data = []\n",
    "for i in range(4):\n",
    "    d = load_raw_data(os.path.join(data_path,data_list[0]))\n",
    "    data += [(img,label,lang) for img,label,lang in ShapeWorld(d, vocab)]\n",
    "print(len(data))\n",
    "print(data[0][0].shape, data[0][1].shape, data[0][2].shape)"
   ]
  },
  {
   "cell_type": "code",
   "execution_count": null,
   "metadata": {},
   "outputs": [],
   "source": [
    "d = load_raw_data(os.path.join(data_path,data_list[-1]))\n",
    "print(d[\"imgs\"].shape)\n",
    "print(d[\"labels\"].shape)\n",
    "print(d[\"langs\"].shape)\n",
    "test_batch = DataLoader(ShapeWorld(d, vocab), batch_size=32, shuffle=False)"
   ]
  },
  {
   "attachments": {},
   "cell_type": "markdown",
   "metadata": {},
   "source": [
    "## Prepare data for pre-trained LLM L0 model"
   ]
  },
  {
   "attachments": {},
   "cell_type": "markdown",
   "metadata": {},
   "source": [
    "### Load raw data"
   ]
  },
  {
   "cell_type": "code",
   "execution_count": null,
   "metadata": {},
   "outputs": [],
   "source": [
    "root = Path(os.path.abspath('')).parent.parent.parent.absolute()\n",
    "data_path = os.path.join(root,\"data\\shapeworld_np\")\n",
    "print(data_path)\n",
    "data_list = os.listdir(data_path)\n",
    "print(data_list)"
   ]
  },
  {
   "attachments": {},
   "cell_type": "markdown",
   "metadata": {},
   "source": [
    "### Generate vocab_dict"
   ]
  },
  {
   "cell_type": "code",
   "execution_count": null,
   "metadata": {},
   "outputs": [],
   "source": [
    "vocab = get_vocab([os.path.join(data_path,d) for d in data_list])\n",
    "print(vocab[\"w2i\"])\n",
    "\n",
    "COLOR = {\"white\":[1,0,0,0,0,0], \"green\":[0,1,0,0,0,0], \"gray\":[0,0,1,0,0,0], \"yellow\":[0,0,0,1,0,0], \"red\":[0,0,0,0,1,0], \"blue\":[0,0,0,0,0,1], \"other\":[0,0,0,0,0,0]}\n",
    "SHAPE = {\"shape\":[0,0,0,0], \"square\":[1,0,0,0], \"circle\":[0,1,0,0], \"rectangle\":[0,0,1,0], \"ellipse\":[0,0,0,1]}\n",
    "\n",
    "original_PAD = 0\n",
    "original_SOS = 1\n",
    "original_EOS = 2\n",
    "original_UNK = 3\n",
    "\n",
    "w2i = vocab[\"w2i\"]\n",
    "i2w = vocab[\"i2w\"]"
   ]
  },
  {
   "attachments": {},
   "cell_type": "markdown",
   "metadata": {},
   "source": [
    "### Prepare the train data and test dataloader"
   ]
  },
  {
   "cell_type": "code",
   "execution_count": null,
   "metadata": {},
   "outputs": [],
   "source": [
    "bert_data = []\n",
    "for i in range(4):\n",
    "    print(i,\"th data\")\n",
    "    d = load_raw_data(os.path.join(data_path,data_list[0]))\n",
    "    bert_data += [(img,label,lang) for img,label,lang in ShapeWorld(d, vocab, bert=True, sent=True, tmp_file=str(i))]\n",
    "print(len(bert_data))\n",
    "print(bert_data[0][0].shape, bert_data[0][1].shape, bert_data[0][2].shape)\n",
    "\n",
    "d = load_raw_data(os.path.join(data_path,data_list[-1]))\n",
    "print(d[\"imgs\"].shape)\n",
    "print(d[\"labels\"].shape)\n",
    "print(d[\"langs\"].shape)\n",
    "bert_test_batch = DataLoader(ShapeWorld(d, vocab, bert=True, sent=True, tmp_file=str(4)), batch_size=32, shuffle=False)"
   ]
  },
  {
   "attachments": {},
   "cell_type": "markdown",
   "metadata": {},
   "source": [
    "## Prepare data and code for relative accuracy evaluation"
   ]
  },
  {
   "attachments": {},
   "cell_type": "markdown",
   "metadata": {},
   "source": [
    "### relative accuracy computation "
   ]
  },
  {
   "cell_type": "code",
   "execution_count": null,
   "metadata": {},
   "outputs": [],
   "source": [
    "def get_relative_accuracy(model,test_batch):\n",
    "    correct_num = 0\n",
    "    total_num = 0\n",
    "    for imgs,labels,langs in test_batch:\n",
    "        imgs,labels,langs = imgs.to(torch.float).to(device),labels.to(torch.float).to(device),langs.to(device)\n",
    "        y_pred_prob = model(imgs,langs)\n",
    "        y_pred = torch.max(y_pred_prob,1)[1]\n",
    "        labels = torch.max(labels,1)[1]\n",
    "        correct_num += torch.sum(y_pred==labels).item()\n",
    "        total_num += len(labels)\n",
    "    return correct_num/total_num"
   ]
  },
  {
   "attachments": {},
   "cell_type": "markdown",
   "metadata": {},
   "source": [
    "## Prepare Normal L0 Model"
   ]
  },
  {
   "attachments": {},
   "cell_type": "markdown",
   "metadata": {},
   "source": [
    "### helper function"
   ]
  },
  {
   "cell_type": "code",
   "execution_count": null,
   "metadata": {},
   "outputs": [],
   "source": [
    "threshold = 0.5\n",
    "def train_model(model,train_batch,criterion,optimizer,do_break=False):\n",
    "    train_loss = 0\n",
    "    model.train()\n",
    "    for imgs,labels,langs in train_batch:\n",
    "        imgs,labels,langs = imgs.to(torch.float).to(device),labels.to(torch.float).to(device),langs.to(device)\n",
    "        optimizer.zero_grad()\n",
    "        y_pred = model(imgs,langs)\n",
    "        loss = criterion(y_pred,labels)\n",
    "        loss.backward()\n",
    "        optimizer.step()\n",
    "        train_loss += loss.item()\n",
    "        if do_break: break\n",
    "    batch_train_loss = train_loss/len(train_batch)\n",
    "    batch_train_acc = get_relative_accuracy(model, train_batch)\n",
    "    return batch_train_loss, batch_train_acc\n",
    "\n",
    "def eval_model(model,test_batch,criterion,do_break=False):\n",
    "    test_loss = 0\n",
    "    model.eval()\n",
    "    with torch.no_grad():\n",
    "        for imgs,labels,langs in test_batch:\n",
    "            imgs,labels,langs = imgs.to(torch.float).to(device),labels.to(torch.float).to(device),langs.to(device)\n",
    "            y_pred = model(imgs,langs)\n",
    "            loss = criterion(y_pred,labels)\n",
    "            test_loss += loss.item()\n",
    "            if do_break: break\n",
    "    batch_test_loss = test_loss/len(test_batch)\n",
    "    batch_test_acc = get_relative_accuracy(model,test_batch)\n",
    "    return batch_test_loss, batch_test_acc\n",
    "\n",
    "\n",
    "def train_and_eval_epochs(model,criterion,optimizer,epoch,train_batch,test_batch,train_size,log=True,do_break=False):\n",
    "    train_loss_list = []\n",
    "    train_acc_list = []\n",
    "    test_loss_list = []\n",
    "    test_acc_list = []\n",
    "    best_loss = 100\n",
    "    best_acc = 0\n",
    "    for i in range(epoch):\n",
    "        if log:\n",
    "            print(\"##############################################\")\n",
    "            print(\"Epoch:{}/{}\".format(i+1,epoch))\n",
    "        batch_train_loss, batch_train_acc = train_model(model,train_batch,criterion,optimizer,do_break=do_break)\n",
    "        batch_test_loss, batch_test_acc = eval_model(model,test_batch,criterion,do_break=do_break)\n",
    "        if log:\n",
    "            print(\"Train Loss:{:.2E}, Test Loss:{:.2E}\".format(batch_train_loss,batch_test_loss))\n",
    "            print(\"Train Acc:{:.2E}, Test Acc:{:.2E}\".format(batch_train_acc,batch_test_acc))\n",
    "        train_loss_list.append(batch_train_loss)\n",
    "        test_loss_list.append(batch_test_loss)\n",
    "        train_acc_list.append(batch_train_acc)\n",
    "        test_acc_list.append(batch_test_acc)\n",
    "        if batch_test_loss < best_loss:\n",
    "            if log: print(\"Best Loss saved ...\")\n",
    "            torch.save(model.to(device).state_dict(),\"model_params/Baseline/baseline-l0_best-loss_trainSize=\"+str(train_size)+\".pth\")\n",
    "            best_loss = batch_test_loss\n",
    "        if batch_test_acc > best_acc:\n",
    "            if log: print(\"Best Acc saved ...\")\n",
    "            torch.save(model.to(device).state_dict(),\"model_params/Baseline/baseline-l0_best-acc_trainSize=\"+str(train_size)+\".pth\")\n",
    "            best_acc = batch_test_acc\n",
    "        if do_break: break\n",
    "    return train_loss_list,test_loss_list,train_acc_list,test_acc_list"
   ]
  },
  {
   "attachments": {},
   "cell_type": "markdown",
   "metadata": {},
   "source": [
    "### Start trainig"
   ]
  },
  {
   "cell_type": "code",
   "execution_count": null,
   "metadata": {},
   "outputs": [],
   "source": [
    "from literal_listener_shapeworld import SimpleBaseLine_ShapeWorld_L0\n",
    "criterion = nn.CrossEntropyLoss()\n",
    "epoch = 30\n",
    "# train size up to 80000\n",
    "for train_num in [15,60,250,1000,4000]:\n",
    "    # train_batch\n",
    "    print(\"Train data size = \",train_num)\n",
    "    train_batch = DataLoader(dataset=data[:train_num],batch_size=128,shuffle=True,num_workers=0)\n",
    "    # model setting\n",
    "    model = SimpleBaseLine_ShapeWorld_L0(len(vocab[\"w2i\"].keys()),device=device).to(device)\n",
    "    optimizer = optim.Adam(model.parameters())\n",
    "    # train and eval with epoch\n",
    "    tr_loss,ts_loss,tr_acc,ts_acc = train_and_eval_epochs(model,criterion,optimizer,epoch,train_batch,test_batch,train_size=train_num,log=False,do_break=True)\n",
    "    metrics = np.array([tr_loss,ts_loss,tr_acc,ts_acc])\n",
    "    np.save(\"metrics/Baseline/baseline-l0_trainSize=\"+str(train_num)+\".npy\",metrics)\n"
   ]
  },
  {
   "attachments": {},
   "cell_type": "markdown",
   "metadata": {},
   "source": [
    "## Prepare BERT-CLS L0 model"
   ]
  },
  {
   "attachments": {},
   "cell_type": "markdown",
   "metadata": {},
   "source": [
    "### Helper function"
   ]
  },
  {
   "cell_type": "code",
   "execution_count": null,
   "metadata": {},
   "outputs": [],
   "source": [
    "def train_model(model,train_batch,criterion,optimizer,do_break=False):\n",
    "    train_loss = 0\n",
    "    model.train()\n",
    "    #print(\"Start Training\")\n",
    "    for imgs,labels,langs in train_batch:\n",
    "        imgs,labels,langs = imgs.to(torch.float).to(device),labels.to(torch.float).to(device),langs.to(device)\n",
    "        optimizer.zero_grad()\n",
    "        y_pred = model(imgs,langs)\n",
    "        loss = criterion(y_pred,labels)\n",
    "        loss.backward()\n",
    "        optimizer.step()\n",
    "        train_loss += loss.item()\n",
    "        if do_break: break\n",
    "    batch_train_loss = train_loss/len(train_batch)\n",
    "    batch_train_acc = get_relative_accuracy(model, train_batch)\n",
    "    return batch_train_loss, batch_train_acc\n",
    "\n",
    "def eval_model(model,test_batch,criterion,do_break=False):\n",
    "    test_loss = 0\n",
    "    model.eval()\n",
    "    with torch.no_grad():\n",
    "        for imgs,labels,langs in test_batch:\n",
    "            imgs,labels,langs = imgs.to(torch.float).to(device),labels.to(torch.float).to(device),langs.to(device)\n",
    "            y_pred = model(imgs,langs)\n",
    "            loss = criterion(y_pred,labels)\n",
    "            test_loss += loss.item()\n",
    "            if do_break: break\n",
    "    batch_test_loss = test_loss/len(test_batch)\n",
    "    batch_test_acc = get_relative_accuracy(model, test_batch)\n",
    "    return batch_test_loss, batch_test_acc\n",
    "\n",
    "\n",
    "def train_and_eval_epochs(model,criterion,optimizer,epoch,train_batch,test_batch,train_size,log=True,do_break=False):\n",
    "    train_loss_list = []\n",
    "    train_acc_list = []\n",
    "    test_loss_list = []\n",
    "    test_acc_list = []\n",
    "    best_loss = 100\n",
    "    best_acc = 0\n",
    "    for i in range(epoch):\n",
    "        if log:\n",
    "            print(\"##############################################\")\n",
    "            print(\"Epoch:{}/{}\".format(i+1,epoch))\n",
    "        batch_train_loss, batch_train_acc = train_model(model,train_batch,criterion,optimizer,do_break=do_break)\n",
    "        batch_test_loss, batch_test_acc = eval_model(model,test_batch,criterion,do_break=do_break)\n",
    "        if log:\n",
    "            print(\"Train Loss:{:.2E}, Test Loss:{:.2E}\".format(batch_train_loss,batch_test_loss))\n",
    "            print(\"Train Acc:{:.2E}, Test Acc:{:.2E}\".format(batch_train_acc,batch_test_acc))\n",
    "        train_loss_list.append(batch_train_loss)\n",
    "        test_loss_list.append(batch_test_loss)\n",
    "        train_acc_list.append(batch_train_acc)\n",
    "        test_acc_list.append(batch_test_acc)\n",
    "        if batch_test_loss < best_loss:\n",
    "            if log: print(\"Best Loss saved ...\")\n",
    "            torch.save(model.to(device).state_dict(),\"model_params/BERT/bert-cls-l0_best-loss_trainSize=\"+str(train_size)+\".pth\")\n",
    "            best_loss = batch_test_loss\n",
    "        if batch_test_acc > best_acc:\n",
    "            if log: print(\"Best Acc saved ...\")\n",
    "            torch.save(model.to(device).state_dict(),\"model_params/BERT/bert-cls-l0_best-acc_trainSize=\"+str(train_size)+\".pth\")\n",
    "            best_acc = batch_test_acc\n",
    "        if do_break: break\n",
    "    return train_loss_list,test_loss_list,train_acc_list,test_acc_list"
   ]
  },
  {
   "attachments": {},
   "cell_type": "markdown",
   "metadata": {},
   "source": [
    "### Start trainig"
   ]
  },
  {
   "cell_type": "code",
   "execution_count": null,
   "metadata": {},
   "outputs": [],
   "source": [
    "from literal_listener_shapeworld import ShapeWorld_BERT_Sent_L0\n",
    "criterion = nn.CrossEntropyLoss()\n",
    "epoch = 30\n",
    "# train size up to 80000\n",
    "for train_num in [15,60,250,1000,4000]:\n",
    "    # train_batch\n",
    "    print(\"Train data size = \",train_num)\n",
    "    train_batch = DataLoader(dataset=bert_data[:train_num],batch_size=128,shuffle=True,num_workers=0)\n",
    "    # model setting\n",
    "    model = ShapeWorld_BERT_Sent_L0().to(device)\n",
    "    optimizer = optim.Adam(model.parameters())\n",
    "    # train and eval with epoch\n",
    "    tr_loss,ts_loss,tr_acc,ts_acc = train_and_eval_epochs(model,criterion,optimizer,epoch,train_batch,bert_test_batch,train_size=train_num,log=True,do_break=True)\n",
    "    metrics = np.array([tr_loss,ts_loss,tr_acc,ts_acc])\n",
    "    np.save(\"metrics/BERT/bert-cls-l0_trainSize=\"+str(train_num)+\".npy\",metrics)"
   ]
  }
 ],
 "metadata": {
  "kernelspec": {
   "display_name": "rsa",
   "language": "python",
   "name": "python3"
  },
  "language_info": {
   "codemirror_mode": {
    "name": "ipython",
    "version": 3
   },
   "file_extension": ".py",
   "mimetype": "text/x-python",
   "name": "python",
   "nbconvert_exporter": "python",
   "pygments_lexer": "ipython3",
   "version": "3.10.9"
  },
  "orig_nbformat": 4
 },
 "nbformat": 4,
 "nbformat_minor": 2
}
