{
 "cells": [
  {
   "cell_type": "code",
   "execution_count": null,
   "metadata": {},
   "outputs": [],
   "source": [
    "from pathlib import Path\n",
    "import os\n",
    "import numpy as np\n",
    "import matplotlib.pyplot as plt\n",
    "import torch\n",
    "from torch import nn\n",
    "from torch import optim\n",
    "from torch.nn import functional as F\n",
    "from torch.utils.data import DataLoader\n",
    "from shapeworld_data import load_raw_data, get_vocab, ShapeWorld, All_langs_ShapeWorld"
   ]
  },
  {
   "cell_type": "code",
   "execution_count": null,
   "metadata": {},
   "outputs": [],
   "source": [
    "device = torch.device(\"cuda\" if torch.cuda.is_available() else \"cpu\")\n",
    "print(device)"
   ]
  },
  {
   "cell_type": "code",
   "execution_count": null,
   "metadata": {},
   "outputs": [],
   "source": [
    "def check_raw_data(imgs, labels, langs, id=0):\n",
    "    data = list(zip(imgs,labels,langs))\n",
    "    img_list,label,lang = data[id]\n",
    "    fig, axes = plt.subplots(nrows=1, ncols=3, figsize=(6, 2))\n",
    "    fig.suptitle(\" \".join(lang))\n",
    "    for i,(l,img) in enumerate(zip(label,img_list)):\n",
    "        img = img.transpose((2,1,0))\n",
    "        axes[i].imshow(img)\n",
    "        if l==1: axes[i].set_title(\"Correct\")\n",
    "    plt.show()"
   ]
  },
  {
   "cell_type": "code",
   "execution_count": null,
   "metadata": {},
   "outputs": [],
   "source": [
    "import torchvision\n",
    "def imshow(img):\n",
    "    img = torchvision.utils.make_grid(img)\n",
    "    img = img / 2 + 0.5\n",
    "    npimg = img.detach().numpy()\n",
    "    plt.imshow(np.transpose(npimg, (1, 2, 0)))\n",
    "    plt.show()"
   ]
  },
  {
   "attachments": {},
   "cell_type": "markdown",
   "metadata": {},
   "source": [
    "## Prepare data"
   ]
  },
  {
   "cell_type": "code",
   "execution_count": null,
   "metadata": {},
   "outputs": [],
   "source": [
    "root = Path(os.path.abspath('')).parent.parent.absolute()\n",
    "data_path = os.path.join(root,\"data\\shapeworld_np_all_langs\")\n",
    "print(data_path)\n",
    "data_list = os.listdir(data_path)\n",
    "print(data_list)"
   ]
  },
  {
   "cell_type": "code",
   "execution_count": null,
   "metadata": {},
   "outputs": [],
   "source": [
    "vocab = get_vocab([os.path.join(data_path,d) for d in data_list])\n",
    "print(vocab[\"w2i\"])"
   ]
  },
  {
   "cell_type": "code",
   "execution_count": null,
   "metadata": {},
   "outputs": [],
   "source": [
    "COLOR = {\"white\":[1,0,0,0,0,0], \"green\":[0,1,0,0,0,0], \"gray\":[0,0,1,0,0,0], \"yellow\":[0,0,0,1,0,0], \"red\":[0,0,0,0,1,0], \"blue\":[0,0,0,0,0,1], \"other\":[0,0,0,0,0,0]}\n",
    "SHAPE = {\"shape\":[0,0,0,0], \"square\":[1,0,0,0], \"circle\":[0,1,0,0], \"rectangle\":[0,0,1,0], \"ellipse\":[0,0,0,1]} "
   ]
  },
  {
   "cell_type": "code",
   "execution_count": null,
   "metadata": {},
   "outputs": [],
   "source": [
    "train_imgs = []\n",
    "for data in data_list[:-1]:\n",
    "    d = load_raw_data(os.path.join(data_path,data))\n",
    "    img_set = d[\"imgs\"].reshape(-1,3,64,64)\n",
    "    train_imgs.append(img_set)\n",
    "train_imgs = torch.tensor(np.array(train_imgs).reshape(-1,3,64,64), dtype=torch.float)\n",
    "print(train_imgs.shape)\n",
    "\n",
    "test_imgs = torch.tensor(load_raw_data(os.path.join(data_path,data_list[-1]))[\"imgs\"].reshape(-1,3,64,64), dtype=torch.float)\n",
    "print(test_imgs.shape)"
   ]
  },
  {
   "cell_type": "code",
   "execution_count": null,
   "metadata": {},
   "outputs": [],
   "source": [
    "imshow(train_imgs[:32])\n",
    "imshow(test_imgs[:32])"
   ]
  },
  {
   "cell_type": "code",
   "execution_count": null,
   "metadata": {},
   "outputs": [],
   "source": [
    "def utter2tensor(utter):\n",
    "    #print(utter)\n",
    "    utters = utter.split(\" \")\n",
    "    if len(utters) == 1 and utters[0] in COLOR.keys():\n",
    "        return torch.tensor(np.array(COLOR[utters[0]]+SHAPE[\"shape\"]))\n",
    "    elif len(utters) == 1 and utters[0] in SHAPE.keys():\n",
    "        return torch.tensor(np.array(COLOR[\"other\"]+SHAPE[utters[0]]))\n",
    "    elif len(utters) == 2:\n",
    "        return torch.tensor(np.array(COLOR[utters[0]]+SHAPE[utters[1]]))\n",
    "    else:\n",
    "        return torch.tensor(np.array(COLOR[\"other\"]+SHAPE[\"shape\"]))\n",
    "    "
   ]
  },
  {
   "cell_type": "code",
   "execution_count": null,
   "metadata": {},
   "outputs": [],
   "source": [
    "from functools import reduce\n",
    "\n",
    "train_labels = []\n",
    "for data in data_list[:-1]:\n",
    "    d = load_raw_data(os.path.join(data_path,data))\n",
    "    utter_set = reduce(lambda x,y:x+y,[\" \".join(u).split(\" # \") for u in d[\"langs\"]])\n",
    "    tensor_set = torch.vstack(tuple([utter2tensor(u) for u in utter_set]))\n",
    "    #print(utter_set[:10])\n",
    "    #print(tensor_set[:10])\n",
    "    #print(tensor_set.shape)\n",
    "    train_labels.append(tensor_set)\n",
    "train_labels = torch.vstack(tuple(train_labels))\n",
    "print(train_labels.shape)\n",
    "\n",
    "d = load_raw_data(os.path.join(data_path,data_list[-1]))\n",
    "utter_set = reduce(lambda x,y:x+y,[\" \".join(u).split(\" # \") for u in d[\"langs\"]])\n",
    "test_labels = torch.vstack(tuple([utter2tensor(u) for u in utter_set]))\n",
    "print(test_labels.shape)"
   ]
  },
  {
   "cell_type": "code",
   "execution_count": null,
   "metadata": {},
   "outputs": [],
   "source": [
    "train_color_labels, test_color_labels = train_labels[:,:6], test_labels[:,:6]\n",
    "train_shape_labels, test_shape_labels = train_labels[:,6:], test_labels[:,6:]\n",
    "print(train_color_labels.shape, test_color_labels.shape)\n",
    "print(train_shape_labels.shape, test_shape_labels.shape)"
   ]
  },
  {
   "cell_type": "code",
   "execution_count": null,
   "metadata": {},
   "outputs": [],
   "source": [
    "color_train_loader = DataLoader(list(zip(train_imgs,train_color_labels)),batch_size=32, shuffle=True)\n",
    "color_test_loader = DataLoader(list(zip(test_imgs,test_color_labels)),batch_size=32, shuffle=False)\n",
    "shape_train_loader = DataLoader(list(zip(train_imgs,train_shape_labels)),batch_size=32, shuffle=True)\n",
    "shape_test_loader = DataLoader(list(zip(test_imgs,test_shape_labels)),batch_size=32, shuffle=False)"
   ]
  },
  {
   "attachments": {},
   "cell_type": "markdown",
   "metadata": {},
   "source": [
    "## Model"
   ]
  },
  {
   "cell_type": "code",
   "execution_count": null,
   "metadata": {},
   "outputs": [],
   "source": [
    "class CNN_encoder(nn.Module):\n",
    "    def __init__(self,output_dim):\n",
    "        super(CNN_encoder, self).__init__()\n",
    "        self.output_dim = output_dim\n",
    "        self.enc = torch.load(\"model_params/cnn_autoencoder3-16-32.cnnet\")\n",
    "        for layer in self.enc:\n",
    "            if not (str(layer)==\"ReLU()\" or str(layer).startswith(\"MaxPool2d\")):\n",
    "                layer.weight.requires_grad = False\n",
    "        self.fc1 = nn.Linear(32*16*16,1000)\n",
    "        self.fc2 = nn.Linear(1000,100)\n",
    "        self.fc3 = nn.Linear(100, self.output_dim)\n",
    "    \n",
    "    def forward(self,img):\n",
    "        x = self.enc(img)\n",
    "        #print(x.shape)\n",
    "        x = x.reshape(-1, 32*16*16)\n",
    "        x = F.relu(self.fc1(x))\n",
    "        x = F.relu(self.fc2(x))\n",
    "        y_prob = F.softmax(self.fc3(x),dim=1)\n",
    "        return y_prob"
   ]
  },
  {
   "cell_type": "code",
   "execution_count": null,
   "metadata": {},
   "outputs": [],
   "source": [
    "model = CNN_encoder(6).to(device)\n",
    "\n",
    "for imgs,labels in color_train_loader:\n",
    "    imgs, labels = imgs.to(device), labels.to(device)\n",
    "    yprob = model(imgs)\n",
    "    print(yprob.shape)\n",
    "    break\n"
   ]
  },
  {
   "attachments": {},
   "cell_type": "markdown",
   "metadata": {},
   "source": [
    "## Training"
   ]
  },
  {
   "attachments": {},
   "cell_type": "markdown",
   "metadata": {},
   "source": [
    "### Color training"
   ]
  },
  {
   "cell_type": "code",
   "execution_count": null,
   "metadata": {},
   "outputs": [],
   "source": [
    "color_model = CNN_encoder(6).to(device)\n",
    "criterion = nn.CrossEntropyLoss()\n",
    "optimizer = optim.Adam(color_model.parameters())\n",
    "epoch = 5"
   ]
  },
  {
   "cell_type": "code",
   "execution_count": null,
   "metadata": {},
   "outputs": [],
   "source": [
    "train_loss_list = []\n",
    "test_loss_list = []\n",
    "for i in range(epoch):\n",
    "    print(\"##############################################\")\n",
    "    print(\"Epoch:{}/{}\".format(i+1,epoch))\n",
    "    train_loss = 0\n",
    "    test_loss = 0\n",
    "\n",
    "    model.train()\n",
    "    #print(\"Start Training\")\n",
    "    for imgs,labels in color_train_loader:\n",
    "        imgs,labels = imgs.to(torch.float).to(device),labels.to(torch.float).to(device)\n",
    "        optimizer.zero_grad()\n",
    "        y_pred = color_model(imgs)\n",
    "        loss = criterion(y_pred,labels)\n",
    "        loss.backward()\n",
    "        optimizer.step()\n",
    "        train_loss += loss.item()\n",
    "    batch_train_loss = train_loss/len(color_train_loader)\n",
    "\n",
    "    model.eval()\n",
    "    #print(\"Start Evaluation\")\n",
    "    for imgs,labels in color_test_loader:\n",
    "        imgs,labels = imgs.to(torch.float).to(device),labels.to(torch.float).to(device)\n",
    "        y_pred = color_model(imgs)\n",
    "        loss = criterion(y_pred,labels)\n",
    "        test_loss += loss.item()\n",
    "    batch_test_loss = test_loss/len(color_test_loader)\n",
    "\n",
    "    print(\"Train Loss:{:.2E}, Test Loss:{:.2E}\".format(batch_train_loss,batch_test_loss))\n",
    "    train_loss_list.append(batch_train_loss)\n",
    "    test_loss_list.append(batch_test_loss)"
   ]
  },
  {
   "cell_type": "code",
   "execution_count": null,
   "metadata": {},
   "outputs": [],
   "source": [
    "torch.save(color_model.to(device).state_dict(),\"model_params/shapeworld_cnn_color_model.pth\")"
   ]
  },
  {
   "attachments": {},
   "cell_type": "markdown",
   "metadata": {},
   "source": [
    "#### Accuracy test"
   ]
  },
  {
   "cell_type": "code",
   "execution_count": null,
   "metadata": {},
   "outputs": [],
   "source": [
    "data = [(i,c) for i,c in zip(test_imgs,test_color_labels) if sum(c)!=0]\n",
    "print(len(data),len(test_imgs))\n",
    "color_eval_loader = DataLoader(data,batch_size=128, shuffle=False)"
   ]
  },
  {
   "cell_type": "code",
   "execution_count": null,
   "metadata": {},
   "outputs": [],
   "source": [
    "correct_num = 0\n",
    "total_num = 0\n",
    "for imgs,labels in color_eval_loader:\n",
    "    imgs,labels = imgs.to(torch.float).to(device),labels.to(torch.float).to(device)\n",
    "    #print(torch.sum(label))\n",
    "    y_pred_prob = color_model(imgs)\n",
    "    #print(y_pred_prob)\n",
    "    y_pred = torch.max(y_pred_prob,1)[1]\n",
    "    labels = torch.max(labels,1)[1]\n",
    "    #print(y_pred,labels)\n",
    "    correct_num += torch.sum(y_pred==labels).item()\n",
    "    total_num += len(labels)\n",
    "    \n",
    "print(\"Total number of data for this evaluatio is \",total_num)\n",
    "print(\"Classification accuracy is \",correct_num/total_num)"
   ]
  },
  {
   "cell_type": "code",
   "execution_count": null,
   "metadata": {},
   "outputs": [],
   "source": [
    "show = 32\n",
    "imshow(test_imgs[:show])\n",
    "for imgs,labels in color_test_loader:\n",
    "    imgs,labels = imgs.to(torch.float).to(device),labels.to(torch.float).to(device)\n",
    "    y_pred_prob = color_model(imgs)\n",
    "    break\n",
    "colors = torch.max(y_pred_prob,1)[1][:show]\n",
    "labels = torch.max(test_color_labels,1)[1][:show]\n",
    "print(np.array([list(COLOR.keys())[c] for c in colors]).reshape(-1,8))\n",
    "#print(utter_set[:show])"
   ]
  },
  {
   "attachments": {},
   "cell_type": "markdown",
   "metadata": {},
   "source": [
    "### Shape training"
   ]
  },
  {
   "cell_type": "code",
   "execution_count": null,
   "metadata": {},
   "outputs": [],
   "source": [
    "shape_model = CNN_encoder(4).to(device)\n",
    "criterion = nn.CrossEntropyLoss()\n",
    "optimizer = optim.Adam(shape_model.parameters())\n",
    "epoch = 5"
   ]
  },
  {
   "cell_type": "code",
   "execution_count": null,
   "metadata": {},
   "outputs": [],
   "source": [
    "train_loss_list = []\n",
    "test_loss_list = []\n",
    "for i in range(epoch):\n",
    "    print(\"##############################################\")\n",
    "    print(\"Epoch:{}/{}\".format(i+1,epoch))\n",
    "    train_loss = 0\n",
    "    test_loss = 0\n",
    "\n",
    "    model.train()\n",
    "    #print(\"Start Training\")\n",
    "    for imgs,labels in shape_train_loader:\n",
    "        imgs,labels = imgs.to(torch.float).to(device),labels.to(torch.float).to(device)\n",
    "        optimizer.zero_grad()\n",
    "        y_pred = shape_model(imgs)\n",
    "        loss = criterion(y_pred,labels)\n",
    "        loss.backward()\n",
    "        optimizer.step()\n",
    "        train_loss += loss.item()\n",
    "    batch_train_loss = train_loss/len(shape_train_loader)\n",
    "\n",
    "    model.eval()\n",
    "    #print(\"Start Evaluation\")\n",
    "    for imgs,labels in shape_test_loader:\n",
    "        imgs,labels = imgs.to(torch.float).to(device),labels.to(torch.float).to(device)\n",
    "        y_pred = shape_model(imgs)\n",
    "        loss = criterion(y_pred,labels)\n",
    "        test_loss += loss.item()\n",
    "    batch_test_loss = test_loss/len(shape_test_loader)\n",
    "\n",
    "    print(\"Train Loss:{:.2E}, Test Loss:{:.2E}\".format(batch_train_loss,batch_test_loss))\n",
    "    train_loss_list.append(batch_train_loss)\n",
    "    test_loss_list.append(batch_test_loss)"
   ]
  },
  {
   "cell_type": "code",
   "execution_count": null,
   "metadata": {},
   "outputs": [],
   "source": [
    "torch.save(color_model.to(device).state_dict(),\"model_params/shapeworld_cnn_shape_model.pth\")"
   ]
  },
  {
   "attachments": {},
   "cell_type": "markdown",
   "metadata": {},
   "source": [
    "#### Accuracy test"
   ]
  },
  {
   "cell_type": "code",
   "execution_count": null,
   "metadata": {},
   "outputs": [],
   "source": [
    "data = [(i,c) for i,c in zip(test_imgs,test_shape_labels) if sum(c)!=0]\n",
    "print(len(data),len(test_imgs))\n",
    "shape_eval_loader = DataLoader(data,batch_size=128, shuffle=False)"
   ]
  },
  {
   "cell_type": "code",
   "execution_count": null,
   "metadata": {},
   "outputs": [],
   "source": [
    "correct_num = 0\n",
    "total_num = 0\n",
    "for imgs,labels in shape_eval_loader:\n",
    "    imgs,labels = imgs.to(torch.float).to(device),labels.to(torch.float).to(device)\n",
    "    #print(torch.sum(label))\n",
    "    y_pred_prob = color_model(imgs)\n",
    "    #print(y_pred_prob)\n",
    "    y_pred = torch.max(y_pred_prob,1)[1]\n",
    "    labels = torch.max(labels,1)[1]\n",
    "    #print(y_pred,labels)\n",
    "    correct_num += torch.sum(y_pred==labels).item()\n",
    "    total_num += len(labels)\n",
    "    \n",
    "print(\"Total number of data for this evaluatio is \",total_num)\n",
    "print(\"Classification accuracy is \",correct_num/total_num)"
   ]
  },
  {
   "cell_type": "code",
   "execution_count": null,
   "metadata": {},
   "outputs": [],
   "source": [
    "show = 16\n",
    "imshow(test_imgs[:show])\n",
    "for imgs,labels in shape_test_loader:\n",
    "    imgs,labels = imgs.to(torch.float).to(device),labels.to(torch.float).to(device)\n",
    "    y_pred_prob = shape_model(imgs)\n",
    "    break\n",
    "shapes = torch.max(y_pred_prob,1)[1][:show]\n",
    "labels = torch.max(test_shape_labels,1)[1][:show]\n",
    "print(np.array([list(SHAPE.keys())[1:][s] for s in shapes]).reshape(-1,8))\n",
    "print(\"\\n\")\n",
    "print(np.array([list(SHAPE.keys())[1:][s] for s in labels]).reshape(-1,8))"
   ]
  }
 ],
 "metadata": {
  "kernelspec": {
   "display_name": "rsa",
   "language": "python",
   "name": "python3"
  },
  "language_info": {
   "codemirror_mode": {
    "name": "ipython",
    "version": 3
   },
   "file_extension": ".py",
   "mimetype": "text/x-python",
   "name": "python",
   "nbconvert_exporter": "python",
   "pygments_lexer": "ipython3",
   "version": "3.10.9"
  },
  "orig_nbformat": 4
 },
 "nbformat": 4,
 "nbformat_minor": 2
}
