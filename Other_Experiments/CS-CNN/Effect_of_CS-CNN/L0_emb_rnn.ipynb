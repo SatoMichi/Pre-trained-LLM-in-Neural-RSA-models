{
 "cells": [
  {
   "cell_type": "code",
   "execution_count": 1,
   "metadata": {},
   "outputs": [
    {
     "name": "stderr",
     "output_type": "stream",
     "text": [
      "c:\\Users\\mange\\miniconda3\\envs\\rsa\\lib\\site-packages\\tqdm\\auto.py:22: TqdmWarning: IProgress not found. Please update jupyter and ipywidgets. See https://ipywidgets.readthedocs.io/en/stable/user_install.html\n",
      "  from .autonotebook import tqdm as notebook_tqdm\n",
      "Some weights of the model checkpoint at bert-base-uncased were not used when initializing BertModel: ['cls.predictions.transform.LayerNorm.weight', 'cls.seq_relationship.bias', 'cls.seq_relationship.weight', 'cls.predictions.decoder.weight', 'cls.predictions.transform.dense.weight', 'cls.predictions.bias', 'cls.predictions.transform.dense.bias', 'cls.predictions.transform.LayerNorm.bias']\n",
      "- This IS expected if you are initializing BertModel from the checkpoint of a model trained on another task or with another architecture (e.g. initializing a BertForSequenceClassification model from a BertForPreTraining model).\n",
      "- This IS NOT expected if you are initializing BertModel from the checkpoint of a model that you expect to be exactly identical (initializing a BertForSequenceClassification model from a BertForSequenceClassification model).\n"
     ]
    }
   ],
   "source": [
    "from pathlib import Path\n",
    "import os\n",
    "import numpy as np\n",
    "import matplotlib.pyplot as plt\n",
    "import torch\n",
    "from torch import nn\n",
    "from torch import optim\n",
    "from torch.nn import functional as F\n",
    "from torch.utils.data import DataLoader\n",
    "from shapeworld_data import load_raw_data, get_vocab, ShapeWorld"
   ]
  },
  {
   "cell_type": "code",
   "execution_count": 2,
   "metadata": {},
   "outputs": [
    {
     "name": "stdout",
     "output_type": "stream",
     "text": [
      "cuda\n"
     ]
    }
   ],
   "source": [
    "device = torch.device(\"cuda\" if torch.cuda.is_available() else \"cpu\")\n",
    "print(device)"
   ]
  },
  {
   "cell_type": "code",
   "execution_count": 3,
   "metadata": {},
   "outputs": [],
   "source": [
    "def check_raw_data(imgs, labels, langs, id=0):\n",
    "    data = list(zip(imgs,labels,langs))\n",
    "    img_list,label,lang = data[id]\n",
    "    fig, axes = plt.subplots(nrows=1, ncols=3, figsize=(6, 2))\n",
    "    fig.suptitle(\" \".join(lang))\n",
    "    for i,(l,img) in enumerate(zip(label,img_list)):\n",
    "        img = img.transpose((2,1,0))\n",
    "        axes[i].imshow(img)\n",
    "        if l==1: axes[i].set_title(\"Correct\")\n",
    "    plt.show()"
   ]
  },
  {
   "attachments": {},
   "cell_type": "markdown",
   "metadata": {},
   "source": [
    "## Main test code"
   ]
  },
  {
   "attachments": {},
   "cell_type": "markdown",
   "metadata": {},
   "source": [
    "### prepare data"
   ]
  },
  {
   "cell_type": "code",
   "execution_count": 4,
   "metadata": {},
   "outputs": [
    {
     "name": "stdout",
     "output_type": "stream",
     "text": [
      "c:\\Users\\mange\\Desktop\\Neural-RSA_with_pre-trained-LM\\pre-trained_RSA\\data\\shapeworld_np\n",
      "['reference-1000-0.npz', 'reference-1000-1.npz', 'reference-1000-2.npz', 'reference-1000-3.npz', 'reference-1000-4.npz']\n"
     ]
    }
   ],
   "source": [
    "root = Path(os.path.abspath('')).parent.parent.absolute()\n",
    "data_path = os.path.join(root,\"data\\shapeworld_np\")\n",
    "print(data_path)\n",
    "data_list = os.listdir(data_path)\n",
    "print(data_list)"
   ]
  },
  {
   "cell_type": "code",
   "execution_count": 5,
   "metadata": {},
   "outputs": [
    {
     "name": "stderr",
     "output_type": "stream",
     "text": [
      "c:\\Users\\mange\\Desktop\\Neural-RSA_with_pre-trained-LM\\pre-trained_RSA\\code\\ShapeWorld_relative_literal_listener\\shapeworld_data.py:201: VisibleDeprecationWarning: Creating an ndarray from ragged nested sequences (which is a list-or-tuple of lists-or-tuples-or ndarrays with different lengths or shapes) is deprecated. If you meant to do this, you must specify 'dtype=object' when creating the ndarray.\n",
      "  'langs': np.array([t.lower().split() for t in data['langs']])\n"
     ]
    },
    {
     "name": "stdout",
     "output_type": "stream",
     "text": [
      "{'<PAD>': 0, '<sos>': 1, '<eos>': 2, '<UNK>': 3, 'blue': 4, 'shape': 5, 'circle': 6, 'ellipse': 7, 'gray': 8, 'white': 9, 'red': 10, 'rectangle': 11, 'square': 12, 'yellow': 13, 'green': 14}\n"
     ]
    }
   ],
   "source": [
    "vocab = get_vocab([os.path.join(data_path,d) for d in data_list])\n",
    "print(vocab[\"w2i\"])"
   ]
  },
  {
   "cell_type": "code",
   "execution_count": 6,
   "metadata": {},
   "outputs": [
    {
     "name": "stdout",
     "output_type": "stream",
     "text": [
      "(1000, 3, 3, 64, 64)\n",
      "(1000, 3)\n",
      "(1000,)\n"
     ]
    },
    {
     "data": {
      "image/png": "[encoded data removed]",
      "text/plain": [
       "<Figure size 600x200 with 3 Axes>"
      ]
     },
     "metadata": {},
     "output_type": "display_data"
    }
   ],
   "source": [
    "d = load_raw_data(os.path.join(data_path,data_list[0]))\n",
    "print(d[\"imgs\"].shape)\n",
    "print(d[\"labels\"].shape)\n",
    "print(d[\"langs\"].shape)\n",
    "check_raw_data(d[\"imgs\"],d[\"labels\"],d[\"langs\"])\n",
    "train_batch = DataLoader(ShapeWorld(d, vocab), batch_size=32, shuffle=False)"
   ]
  },
  {
   "cell_type": "code",
   "execution_count": 7,
   "metadata": {},
   "outputs": [
    {
     "name": "stdout",
     "output_type": "stream",
     "text": [
      "(1000, 3, 3, 64, 64)\n",
      "(1000, 3)\n",
      "(1000,)\n"
     ]
    },
    {
     "data": {
      "image/png": "[encoded data removed]",
      "text/plain": [
       "<Figure size 600x200 with 3 Axes>"
      ]
     },
     "metadata": {},
     "output_type": "display_data"
    }
   ],
   "source": [
    "d = load_raw_data(os.path.join(data_path,data_list[-1]))\n",
    "print(d[\"imgs\"].shape)\n",
    "print(d[\"labels\"].shape)\n",
    "print(d[\"langs\"].shape)\n",
    "check_raw_data(d[\"imgs\"],d[\"labels\"],d[\"langs\"])\n",
    "test_batch = DataLoader(ShapeWorld(d, vocab), batch_size=32, shuffle=False)"
   ]
  },
  {
   "attachments": {},
   "cell_type": "markdown",
   "metadata": {},
   "source": [
    "### Model setting"
   ]
  },
  {
   "cell_type": "code",
   "execution_count": 8,
   "metadata": {},
   "outputs": [],
   "source": [
    "from cs_cnn import CNN_encoder\n",
    "\n",
    "class ShapeWorld_RNN_L0(nn.Module):\n",
    "    def __init__(self,vocab_size,emb_dim=768,hidden_dim=1024) -> None:\n",
    "        super(ShapeWorld_RNN_L0,self).__init__()\n",
    "        self.embedding_dim = emb_dim\n",
    "        self.hidden_dim = hidden_dim\n",
    "        self.embedding = nn.Embedding(vocab_size, emb_dim, padding_idx=0)\n",
    "        self.cnn_color_encoder = CNN_encoder(6)\n",
    "        self.cnn_color_encoder.load_state_dict(torch.load(\"model_params/shapeworld_original-cnn_color_model.pth\",map_location=device))\n",
    "        self.cnn_shape_encoder = CNN_encoder(4)\n",
    "        self.cnn_shape_encoder.load_state_dict(torch.load(\"model_params/shapeworld_original-cnn_shape_model.pth\",map_location=device))\n",
    "        self.to_hidden = nn.Linear(10,self.hidden_dim)\n",
    "        self.rnn = nn.GRU(emb_dim, hidden_dim, dropout=0.5, batch_first=True, bidirectional=True)\n",
    "        \n",
    "    def embed_features(self, imgs):\n",
    "        imgs01 = imgs[:,0]\n",
    "        imgs02 = imgs[:,1]\n",
    "        imgs03 = imgs[:,2]\n",
    "        feats_emb_flats = []\n",
    "        for imgs in [imgs01,imgs02,imgs03]:\n",
    "            color_embs = self.cnn_color_encoder(imgs)\n",
    "            shape_embs = self.cnn_shape_encoder(imgs)\n",
    "            feats_emb = torch.hstack((color_embs, shape_embs))\n",
    "            feats_emb_flats.append(feats_emb)\n",
    "        cnn_emb = torch.stack(tuple(feats_emb_flats),dim=1)\n",
    "        feat_embs = self.to_hidden(cnn_emb)\n",
    "        return feat_embs\n",
    "\n",
    "    def forward(self,imgs,contexts):\n",
    "        embs = self.embedding(contexts)\n",
    "        _, hidden = self.rnn(embs)\n",
    "        lang_embs = hidden[-1].view(-1,self.hidden_dim)\n",
    "        imgs_emb = self.embed_features(imgs)\n",
    "        #print(imgs_emb.shape,lang_embs.shape)\n",
    "        scores = F.softmax(torch.einsum('ijh,ih->ij', (imgs_emb, lang_embs)),dim=-1)\n",
    "        return scores\n"
   ]
  },
  {
   "cell_type": "code",
   "execution_count": 9,
   "metadata": {},
   "outputs": [
    {
     "name": "stderr",
     "output_type": "stream",
     "text": [
      "c:\\Users\\mange\\miniconda3\\envs\\rsa\\lib\\site-packages\\torch\\nn\\modules\\rnn.py:67: UserWarning: dropout option adds dropout after all but last recurrent layer, so non-zero dropout expects num_layers greater than 1, but got dropout=0.5 and num_layers=1\n",
      "  warnings.warn(\"dropout option adds dropout after all but last \"\n"
     ]
    }
   ],
   "source": [
    "model = ShapeWorld_RNN_L0(len(vocab[\"w2i\"].keys()))\n",
    "model.to(device)\n",
    "criterion = nn.CrossEntropyLoss()\n",
    "optimizer = optim.Adam(model.parameters())\n",
    "epoch = 30"
   ]
  },
  {
   "attachments": {},
   "cell_type": "markdown",
   "metadata": {},
   "source": [
    "### Training"
   ]
  },
  {
   "cell_type": "code",
   "execution_count": 12,
   "metadata": {},
   "outputs": [],
   "source": [
    "def get_relative_accuracy(model,test_batch):\n",
    "    correct_num = 0\n",
    "    total_num = 0\n",
    "    for imgs,labels,langs in test_batch:\n",
    "        imgs,labels,langs = imgs.to(torch.float).to(device),labels.to(torch.float).to(device),langs.to(device)\n",
    "        y_pred_prob = model(imgs,langs)\n",
    "        y_pred = torch.max(y_pred_prob,1)[1]\n",
    "        labels = torch.max(labels,1)[1]\n",
    "        correct_num += torch.sum(y_pred==labels).item()\n",
    "        total_num += len(labels)\n",
    "    return correct_num/total_num"
   ]
  },
  {
   "cell_type": "code",
   "execution_count": 13,
   "metadata": {},
   "outputs": [],
   "source": [
    "def train_model(model,train_batch,criterion,optimizer,do_break=False):\n",
    "    train_loss = 0\n",
    "    model.train()\n",
    "    for imgs,labels,langs in train_batch:\n",
    "        imgs,labels,langs = imgs.to(torch.float).to(device),labels.to(torch.float).to(device),langs.to(device)\n",
    "        optimizer.zero_grad()\n",
    "        y_pred = model(imgs,langs)\n",
    "        loss = criterion(y_pred,labels)\n",
    "        loss.backward()\n",
    "        optimizer.step()\n",
    "        train_loss += loss.item()\n",
    "        if do_break: break\n",
    "    batch_train_loss = train_loss/len(train_batch)\n",
    "    batch_train_acc = get_relative_accuracy(model, train_batch)\n",
    "    return batch_train_loss, batch_train_acc\n",
    "\n",
    "def eval_model(model,test_batch,criterion,do_break=False):\n",
    "    test_loss = 0\n",
    "    model.eval()\n",
    "    with torch.no_grad():\n",
    "        for imgs,labels,langs in test_batch:\n",
    "            imgs,labels,langs = imgs.to(torch.float).to(device),labels.to(torch.float).to(device),langs.to(device)\n",
    "            y_pred = model(imgs,langs)\n",
    "            loss = criterion(y_pred,labels)\n",
    "            test_loss += loss.item()\n",
    "            if do_break: break\n",
    "    batch_test_loss = test_loss/len(test_batch)\n",
    "    batch_test_acc = get_relative_accuracy(model,test_batch)\n",
    "    return batch_test_loss, batch_test_acc\n",
    "\n",
    "\n",
    "def train_and_eval_epochs(model,criterion,optimizer,epoch,train_batch,test_batch,log=True,do_break=False):\n",
    "    train_loss_list = []\n",
    "    train_acc_list = []\n",
    "    test_loss_list = []\n",
    "    test_acc_list = []\n",
    "    best_loss = 100\n",
    "    best_acc = 0\n",
    "    for i in range(epoch):\n",
    "        if log:\n",
    "            print(\"##############################################\")\n",
    "            print(\"Epoch:{}/{}\".format(i+1,epoch))\n",
    "        batch_train_loss, batch_train_acc = train_model(model,train_batch,criterion,optimizer,do_break=do_break)\n",
    "        batch_test_loss, batch_test_acc = eval_model(model,test_batch,criterion,do_break=do_break)\n",
    "        if log:\n",
    "            print(\"Train Loss:{:.2E}, Test Loss:{:.2E}\".format(batch_train_loss,batch_test_loss))\n",
    "            print(\"Train Acc:{:.2E}, Test Acc:{:.2E}\".format(batch_train_acc,batch_test_acc))\n",
    "        train_loss_list.append(batch_train_loss)\n",
    "        test_loss_list.append(batch_test_loss)\n",
    "        train_acc_list.append(batch_train_acc)\n",
    "        test_acc_list.append(batch_test_acc)\n",
    "        if batch_test_loss < best_loss:\n",
    "            if log: print(\"Best Loss saved ...\")\n",
    "            torch.save(model.to(device).state_dict(),\"model_params/emb-rnn-l0_best-loss.pth\")\n",
    "            best_loss = batch_test_loss\n",
    "        if batch_test_acc > best_acc:\n",
    "            if log: print(\"Best Acc saved ...\")\n",
    "            torch.save(model.to(device).state_dict(),\"model_params/emb-rnn-l0_best-acc.pth\")\n",
    "            best_acc = batch_test_acc\n",
    "        if do_break: break\n",
    "    return train_loss_list,test_loss_list,train_acc_list,test_acc_list"
   ]
  },
  {
   "cell_type": "code",
   "execution_count": 21,
   "metadata": {},
   "outputs": [
    {
     "name": "stdout",
     "output_type": "stream",
     "text": [
      "##############################################\n",
      "Epoch:1/30\n",
      "Train Loss:9.63E-01, Test Loss:9.56E-01\n",
      "Train Acc:6.22E-01, Test Acc:6.10E-01\n",
      "Best Loss saved ...\n",
      "Best Acc saved ...\n",
      "##############################################\n",
      "Epoch:2/30\n",
      "Train Loss:9.40E-01, Test Loss:9.51E-01\n",
      "Train Acc:6.80E-01, Test Acc:6.51E-01\n",
      "Best Loss saved ...\n",
      "Best Acc saved ...\n",
      "##############################################\n",
      "Epoch:3/30\n",
      "Train Loss:8.98E-01, Test Loss:8.92E-01\n",
      "Train Acc:6.91E-01, Test Acc:6.70E-01\n",
      "Best Loss saved ...\n",
      "Best Acc saved ...\n",
      "##############################################\n",
      "Epoch:4/30\n",
      "Train Loss:8.54E-01, Test Loss:8.25E-01\n",
      "Train Acc:7.10E-01, Test Acc:7.34E-01\n",
      "Best Loss saved ...\n",
      "Best Acc saved ...\n",
      "##############################################\n",
      "Epoch:5/30\n",
      "Train Loss:8.52E-01, Test Loss:9.02E-01\n",
      "Train Acc:6.79E-01, Test Acc:6.65E-01\n",
      "##############################################\n",
      "Epoch:6/30\n",
      "Train Loss:8.89E-01, Test Loss:9.54E-01\n",
      "Train Acc:6.57E-01, Test Acc:6.34E-01\n",
      "##############################################\n",
      "Epoch:7/30\n",
      "Train Loss:9.42E-01, Test Loss:8.84E-01\n",
      "Train Acc:7.03E-01, Test Acc:6.96E-01\n",
      "##############################################\n",
      "Epoch:8/30\n",
      "Train Loss:9.19E-01, Test Loss:8.93E-01\n",
      "Train Acc:7.09E-01, Test Acc:6.80E-01\n",
      "##############################################\n",
      "Epoch:9/30\n",
      "Train Loss:8.96E-01, Test Loss:9.11E-01\n",
      "Train Acc:6.96E-01, Test Acc:6.86E-01\n",
      "##############################################\n",
      "Epoch:10/30\n",
      "Train Loss:9.21E-01, Test Loss:9.19E-01\n",
      "Train Acc:6.95E-01, Test Acc:7.19E-01\n",
      "##############################################\n",
      "Epoch:11/30\n",
      "Train Loss:9.27E-01, Test Loss:8.96E-01\n",
      "Train Acc:7.01E-01, Test Acc:7.22E-01\n",
      "##############################################\n",
      "Epoch:12/30\n",
      "Train Loss:9.05E-01, Test Loss:8.95E-01\n",
      "Train Acc:7.08E-01, Test Acc:7.13E-01\n",
      "##############################################\n",
      "Epoch:13/30\n",
      "Train Loss:9.18E-01, Test Loss:9.15E-01\n",
      "Train Acc:7.37E-01, Test Acc:7.31E-01\n",
      "##############################################\n",
      "Epoch:14/30\n",
      "Train Loss:9.21E-01, Test Loss:9.12E-01\n",
      "Train Acc:7.56E-01, Test Acc:7.41E-01\n",
      "Best Acc saved ...\n",
      "##############################################\n",
      "Epoch:15/30\n",
      "Train Loss:9.30E-01, Test Loss:9.14E-01\n",
      "Train Acc:7.18E-01, Test Acc:7.18E-01\n",
      "##############################################\n",
      "Epoch:16/30\n",
      "Train Loss:9.18E-01, Test Loss:9.47E-01\n",
      "Train Acc:6.85E-01, Test Acc:6.92E-01\n",
      "##############################################\n",
      "Epoch:17/30\n",
      "Train Loss:1.05E+00, Test Loss:1.08E+00\n",
      "Train Acc:5.18E-01, Test Acc:5.01E-01\n",
      "##############################################\n",
      "Epoch:18/30\n",
      "Train Loss:1.03E+00, Test Loss:1.07E+00\n",
      "Train Acc:5.83E-01, Test Acc:5.33E-01\n",
      "##############################################\n",
      "Epoch:19/30\n",
      "Train Loss:1.05E+00, Test Loss:1.06E+00\n",
      "Train Acc:6.00E-01, Test Acc:5.69E-01\n",
      "##############################################\n",
      "Epoch:20/30\n",
      "Train Loss:1.04E+00, Test Loss:1.07E+00\n",
      "Train Acc:6.55E-01, Test Acc:5.99E-01\n",
      "##############################################\n",
      "Epoch:21/30\n",
      "Train Loss:1.04E+00, Test Loss:1.04E+00\n",
      "Train Acc:7.33E-01, Test Acc:7.01E-01\n",
      "##############################################\n",
      "Epoch:22/30\n",
      "Train Loss:1.03E+00, Test Loss:1.03E+00\n",
      "Train Acc:8.34E-01, Test Acc:8.04E-01\n",
      "Best Acc saved ...\n",
      "##############################################\n",
      "Epoch:23/30\n",
      "Train Loss:1.03E+00, Test Loss:1.04E+00\n",
      "Train Acc:8.39E-01, Test Acc:8.11E-01\n",
      "Best Acc saved ...\n",
      "##############################################\n",
      "Epoch:24/30\n",
      "Train Loss:1.03E+00, Test Loss:1.04E+00\n",
      "Train Acc:8.44E-01, Test Acc:8.20E-01\n",
      "Best Acc saved ...\n",
      "##############################################\n",
      "Epoch:25/30\n",
      "Train Loss:1.03E+00, Test Loss:1.04E+00\n",
      "Train Acc:7.67E-01, Test Acc:7.20E-01\n",
      "##############################################\n",
      "Epoch:26/30\n",
      "Train Loss:1.09E+00, Test Loss:1.09E+00\n",
      "Train Acc:6.44E-01, Test Acc:6.68E-01\n",
      "##############################################\n",
      "Epoch:27/30\n",
      "Train Loss:1.10E+00, Test Loss:1.09E+00\n",
      "Train Acc:5.37E-01, Test Acc:5.08E-01\n",
      "##############################################\n",
      "Epoch:28/30\n",
      "Train Loss:1.10E+00, Test Loss:1.10E+00\n",
      "Train Acc:7.41E-01, Test Acc:7.65E-01\n",
      "##############################################\n",
      "Epoch:29/30\n",
      "Train Loss:1.10E+00, Test Loss:1.10E+00\n",
      "Train Acc:1.00E+00, Test Acc:1.00E+00\n",
      "Best Acc saved ...\n",
      "##############################################\n",
      "Epoch:30/30\n",
      "Train Loss:1.10E+00, Test Loss:1.10E+00\n",
      "Train Acc:1.00E+00, Test Acc:1.00E+00\n"
     ]
    }
   ],
   "source": [
    "# train and eval with epoch\n",
    "tr_loss,ts_loss,tr_acc,ts_acc = train_and_eval_epochs(model,criterion,optimizer,epoch,train_batch,test_batch,log=True,do_break=False)\n",
    "metrics = np.array([tr_loss,ts_loss,tr_acc,ts_acc])\n",
    "np.save(\"metrics/emb-rnn-l0.npy\",metrics)"
   ]
  },
  {
   "cell_type": "code",
   "execution_count": 4,
   "metadata": {},
   "outputs": [
    {
     "name": "stdout",
     "output_type": "stream",
     "text": [
      "Exceeding 0.65 at epoch  2\n"
     ]
    }
   ],
   "source": [
    "import numpy as np\n",
    "metric = np.load(\"metrics/emb-rnn-l0.npy\")\n",
    "test_acc_list = metric[-1]\n",
    "epoch = 30\n",
    "for i in range(epoch):\n",
    "    acc = test_acc_list[i]\n",
    "    if acc>0.65: \n",
    "        print(\"Exceeding 0.65 at epoch \",i+1)\n",
    "        break"
   ]
  },
  {
   "attachments": {},
   "cell_type": "markdown",
   "metadata": {},
   "source": [
    "### Accuracy Test"
   ]
  },
  {
   "cell_type": "code",
   "execution_count": 10,
   "metadata": {},
   "outputs": [
    {
     "data": {
      "text/plain": [
       "<All keys matched successfully>"
      ]
     },
     "execution_count": 10,
     "metadata": {},
     "output_type": "execute_result"
    }
   ],
   "source": [
    "model = ShapeWorld_RNN_L0(len(vocab[\"w2i\"].keys()))\n",
    "model.to(device)\n",
    "model.load_state_dict(torch.load(\"model_params/emb-rnn-l0_best-loss.pth\",map_location=device))"
   ]
  },
  {
   "cell_type": "code",
   "execution_count": 26,
   "metadata": {},
   "outputs": [],
   "source": [
    "def get_prob_labels(lang_probs):\n",
    "    lang_pred = []\n",
    "    for probs in lang_probs:\n",
    "        if probs[0]==probs[1] and probs[1]==probs[2]: # all same\n",
    "            lang_pred.append(int(np.random.randint(3)))\n",
    "        elif probs[0]==probs[1] and max(probs)==probs[0]:\n",
    "            lang_pred.append(int(0 if np.random.randint(2)==0 else 1))\n",
    "        elif probs[1]==probs[2] and max(probs)==probs[1]:\n",
    "            lang_pred.append(int(1 if np.random.randint(2)==0 else 2))\n",
    "        elif probs[0]==probs[2] and max(probs)==probs[1]:\n",
    "            lang_pred.append(int(0 if np.random.randint(2)==0 else 2))\n",
    "        else:\n",
    "            lang_pred.append(int(torch.argmax(probs)))\n",
    "    return np.array(lang_pred)"
   ]
  },
  {
   "cell_type": "code",
   "execution_count": 11,
   "metadata": {},
   "outputs": [
    {
     "name": "stdout",
     "output_type": "stream",
     "text": [
      "Total number of data for this evaluatio is  1000\n",
      "Classification accuracy is  0.703\n"
     ]
    }
   ],
   "source": [
    "correct_num = 0\n",
    "total_num = 0\n",
    "for imgs,labels,langs in test_batch:\n",
    "    imgs,labels,langs = imgs.to(torch.float).to(device),labels.to(torch.float).to(device),langs.to(device)\n",
    "    #print(torch.sum(label))\n",
    "    y_pred_prob = model(imgs,langs)\n",
    "    y_pred = torch.max(y_pred_prob,1)[1]\n",
    "    labels = torch.max(labels,1)[1]\n",
    "    correct_num += sum(y_pred==labels).item()\n",
    "    total_num += len(labels)\n",
    "    \n",
    "print(\"Total number of data for this evaluatio is \",total_num)\n",
    "print(\"Classification accuracy is \",correct_num/total_num)"
   ]
  }
 ],
 "metadata": {
  "kernelspec": {
   "display_name": "rsa",
   "language": "python",
   "name": "python3"
  },
  "language_info": {
   "codemirror_mode": {
    "name": "ipython",
    "version": 3
   },
   "file_extension": ".py",
   "mimetype": "text/x-python",
   "name": "python",
   "nbconvert_exporter": "python",
   "pygments_lexer": "ipython3",
   "version": "3.10.9"
  },
  "orig_nbformat": 4
 },
 "nbformat": 4,
 "nbformat_minor": 2
}
