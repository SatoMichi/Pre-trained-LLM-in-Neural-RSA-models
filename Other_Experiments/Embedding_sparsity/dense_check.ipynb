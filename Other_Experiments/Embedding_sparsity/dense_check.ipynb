{
 "cells": [
  {
   "cell_type": "code",
   "execution_count": null,
   "metadata": {},
   "outputs": [],
   "source": [
    "import numpy as np\n",
    "import torch\n",
    "from literal_listener_shapeworld import ShapeWorld_RNN_L0\n",
    "\n",
    "device = torch.device(\"cuda\" if torch.cuda.is_available() else \"cpu\")\n",
    "print(device)"
   ]
  },
  {
   "attachments": {},
   "cell_type": "markdown",
   "metadata": {},
   "source": [
    "## Embedding"
   ]
  },
  {
   "cell_type": "code",
   "execution_count": null,
   "metadata": {},
   "outputs": [],
   "source": [
    "literal_listener = ShapeWorld_RNN_L0(15).to(device)\n",
    "literal_listener.load_state_dict(torch.load(\"shapeworld_rnn_full-data_100epoch_l0_last.pth\",map_location=device))\n",
    "print(literal_listener.embedding.weight.shape)"
   ]
  },
  {
   "cell_type": "code",
   "execution_count": null,
   "metadata": {},
   "outputs": [],
   "source": [
    "embs = literal_listener.embedding.weight\n",
    "mean,sparsity  = [],[]\n",
    "for emb in embs:\n",
    "    #print(\"Mean entry: \",float(torch.abs(torch.mean(emb))))\n",
    "    mean.append(float(torch.abs(torch.mean(emb))))\n",
    "    #print(\"Sparsity: \",float(sum(torch.abs(emb)<0.01)/len(emb)))\n",
    "    sparsity.append(float(sum(torch.abs(emb)<0.005)/len(emb)))\n",
    "    #sparsity.append(float(sum(torch.abs(emb)<mean[-1]*0.01)/len(emb)))\n",
    "print(\"Average Mean entry: \",np.mean(mean))\n",
    "sparsity01 = [s for s in sparsity if s!=1.0]\n",
    "print(\"Average Sparsity: \",np.max(sparsity01))"
   ]
  },
  {
   "attachments": {},
   "cell_type": "markdown",
   "metadata": {},
   "source": [
    "## BERT"
   ]
  },
  {
   "cell_type": "code",
   "execution_count": null,
   "metadata": {},
   "outputs": [],
   "source": [
    "bert_embs = torch.load(\"all_contexts_embs_0.tensor\")\n",
    "print(bert_embs.shape)"
   ]
  },
  {
   "cell_type": "code",
   "execution_count": null,
   "metadata": {},
   "outputs": [],
   "source": [
    "mean,sparsity  = [],[]\n",
    "for emb in bert_embs[3,:15]:\n",
    "    #print(\"Mean entry: \",float(torch.abs(torch.mean(emb))))\n",
    "    mean.append(float(torch.abs(torch.mean(emb))))\n",
    "    #print(\"Sparsity: \",float(sum(torch.abs(emb)<0.01)/len(emb)))\n",
    "    sparsity.append(float(sum(torch.abs(emb)<0.005)/len(emb)))\n",
    "    #sparsity.append(float(sum(torch.abs(emb)<mean[-1]*0.01)/len(emb)))\n",
    "print(\"Average Mean entry: \",np.mean(mean))\n",
    "sparsity02 = [s for s in sparsity if s!=1.0]\n",
    "print(\"Average Sparsity: \",np.max(sparsity02))"
   ]
  },
  {
   "attachments": {},
   "cell_type": "markdown",
   "metadata": {},
   "source": [
    "## Which is Sparse?"
   ]
  },
  {
   "cell_type": "code",
   "execution_count": null,
   "metadata": {},
   "outputs": [],
   "source": [
    "print(len(sparsity01), len(sparsity02))"
   ]
  },
  {
   "cell_type": "code",
   "execution_count": null,
   "metadata": {},
   "outputs": [],
   "source": [
    "print(\"Average Emb Sparsity: \",np.max(sparsity01))\n",
    "print(\"Average BERT Sparsity: \",np.max(sparsity02))"
   ]
  },
  {
   "cell_type": "code",
   "execution_count": null,
   "metadata": {},
   "outputs": [],
   "source": [
    "from scipy.stats import median_test\n",
    "\n",
    "# calculate the sign test\n",
    "stat, pval, med, tbl = median_test(sparsity01, sparsity02)\n",
    "\n",
    "# print the results\n",
    "print(\"Sign Test:\")\n",
    "print(\"Statistic:\", stat)\n",
    "print(\"P-value:\", pval)\n"
   ]
  }
 ],
 "metadata": {
  "kernelspec": {
   "display_name": "rsa",
   "language": "python",
   "name": "python3"
  },
  "language_info": {
   "codemirror_mode": {
    "name": "ipython",
    "version": 3
   },
   "file_extension": ".py",
   "mimetype": "text/x-python",
   "name": "python",
   "nbconvert_exporter": "python",
   "pygments_lexer": "ipython3",
   "version": "3.10.9"
  },
  "orig_nbformat": 4
 },
 "nbformat": 4,
 "nbformat_minor": 2
}
