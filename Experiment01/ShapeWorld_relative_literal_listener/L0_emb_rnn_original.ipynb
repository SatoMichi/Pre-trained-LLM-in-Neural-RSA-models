{
 "cells": [
  {
   "cell_type": "code",
   "execution_count": null,
   "metadata": {},
   "outputs": [],
   "source": [
    "from pathlib import Path\n",
    "import os\n",
    "import numpy as np\n",
    "import matplotlib.pyplot as plt\n",
    "import matplotlib.patches as mpatch\n",
    "from sklearn.model_selection import train_test_split\n",
    "import torch\n",
    "from torch import nn\n",
    "from torch import optim\n",
    "from torch.nn import functional as F\n",
    "from torch.utils.data import DataLoader\n",
    "from shapeworld_data import load_raw_data, get_vocab, ShapeWorld"
   ]
  },
  {
   "cell_type": "code",
   "execution_count": null,
   "metadata": {},
   "outputs": [],
   "source": [
    "device = torch.device(\"cuda\" if torch.cuda.is_available() else \"cpu\")\n",
    "print(device)"
   ]
  },
  {
   "cell_type": "code",
   "execution_count": null,
   "metadata": {},
   "outputs": [],
   "source": [
    "def check_raw_data(imgs, labels, langs, id=0):\n",
    "    data = list(zip(imgs,labels,langs))\n",
    "    img_list,label,lang = data[id]\n",
    "    fig, axes = plt.subplots(nrows=1, ncols=3, figsize=(6, 2))\n",
    "    fig.suptitle(\" \".join(lang))\n",
    "    for i,(l,img) in enumerate(zip(label,img_list)):\n",
    "        img = img.transpose((2,1,0))\n",
    "        axes[i].imshow(img)\n",
    "        if l==1: axes[i].set_title(\"Correct\")\n",
    "    plt.show()"
   ]
  },
  {
   "attachments": {},
   "cell_type": "markdown",
   "metadata": {},
   "source": [
    "## Main test code"
   ]
  },
  {
   "attachments": {},
   "cell_type": "markdown",
   "metadata": {},
   "source": [
    "### prepare data"
   ]
  },
  {
   "cell_type": "code",
   "execution_count": null,
   "metadata": {},
   "outputs": [],
   "source": [
    "root = Path(os.path.abspath('')).parent.parent.absolute()\n",
    "data_path = os.path.join(root,\"data\\shapeworld_np\")\n",
    "print(data_path)\n",
    "data_list = os.listdir(data_path)\n",
    "print(data_list)"
   ]
  },
  {
   "cell_type": "code",
   "execution_count": null,
   "metadata": {},
   "outputs": [],
   "source": [
    "vocab = get_vocab([os.path.join(data_path,d) for d in data_list])\n",
    "print(vocab[\"w2i\"])"
   ]
  },
  {
   "cell_type": "code",
   "execution_count": null,
   "metadata": {},
   "outputs": [],
   "source": [
    "d = load_raw_data(os.path.join(data_path,data_list[0]))\n",
    "print(d[\"imgs\"].shape)\n",
    "print(d[\"labels\"].shape)\n",
    "print(d[\"langs\"].shape)\n",
    "check_raw_data(d[\"imgs\"],d[\"labels\"],d[\"langs\"])\n",
    "train_batch0 = DataLoader(ShapeWorld(load_raw_data(os.path.join(data_path,data_list[0])), vocab), batch_size=32, shuffle=False)\n",
    "train_batch1 = DataLoader(ShapeWorld(load_raw_data(os.path.join(data_path,data_list[1])), vocab), batch_size=32, shuffle=False)\n",
    "train_batch2 = DataLoader(ShapeWorld(load_raw_data(os.path.join(data_path,data_list[2])), vocab), batch_size=32, shuffle=False)\n",
    "train_batch3 = DataLoader(ShapeWorld(load_raw_data(os.path.join(data_path,data_list[3])), vocab), batch_size=32, shuffle=False)\n",
    "train_batchs = [train_batch0, train_batch1, train_batch2, train_batch3]"
   ]
  },
  {
   "cell_type": "code",
   "execution_count": null,
   "metadata": {},
   "outputs": [],
   "source": [
    "d = load_raw_data(os.path.join(data_path,data_list[4]))\n",
    "print(d[\"imgs\"].shape)\n",
    "print(d[\"labels\"].shape)\n",
    "print(d[\"langs\"].shape)\n",
    "check_raw_data(d[\"imgs\"],d[\"labels\"],d[\"langs\"])\n",
    "test_batch = DataLoader(ShapeWorld(d, vocab), batch_size=32, shuffle=False)"
   ]
  },
  {
   "attachments": {},
   "cell_type": "markdown",
   "metadata": {},
   "source": [
    "### Model setting"
   ]
  },
  {
   "cell_type": "code",
   "execution_count": null,
   "metadata": {},
   "outputs": [],
   "source": [
    "from vision import ConvNet\n",
    "\n",
    "class ShapeWorld_RNN_L0(nn.Module):\n",
    "    def __init__(self,vocab_size,emb_dim=768,hidden_dim=1024) -> None:\n",
    "        super(ShapeWorld_RNN_L0,self).__init__()\n",
    "        self.embedding_dim = emb_dim\n",
    "        self.hidden_dim = hidden_dim\n",
    "        self.embedding = nn.Embedding(vocab_size, emb_dim, padding_idx=0)\n",
    "        self.cnn_encoder = ConvNet(4)\n",
    "        self.rnn = nn.GRU(emb_dim, hidden_dim, dropout=0.5, batch_first=True, bidirectional=True)\n",
    "\n",
    "    def embed_features(self, feats):\n",
    "        batch_size = feats.shape[0]\n",
    "        n_obj = feats.shape[1]\n",
    "        rest = feats.shape[2:]\n",
    "        feats_flat = feats.reshape(batch_size * n_obj, *rest)\n",
    "        feats_emb_flat = self.cnn_encoder(feats_flat)\n",
    "        cnn_emb = feats_emb_flat.unsqueeze(1).view(batch_size, n_obj, -1)\n",
    "        return cnn_emb\n",
    "\n",
    "    def forward(self,imgs,contexts):\n",
    "        embs = self.embedding(contexts)\n",
    "        _, hidden = self.rnn(embs)\n",
    "        lang_embs = hidden[-1].view(-1,self.hidden_dim)\n",
    "        imgs_emb = self.embed_features(imgs)\n",
    "        #print(imgs_emb.shape,lang_embs.shape)\n",
    "        scores = F.softmax(torch.einsum('ijh,ih->ij', (imgs_emb, lang_embs)))\n",
    "        return scores\n"
   ]
  },
  {
   "cell_type": "code",
   "execution_count": null,
   "metadata": {},
   "outputs": [],
   "source": [
    "model = ShapeWorld_RNN_L0(len(vocab[\"w2i\"].keys()))\n",
    "model.to(device)"
   ]
  },
  {
   "cell_type": "code",
   "execution_count": null,
   "metadata": {},
   "outputs": [],
   "source": [
    "criterion = nn.CrossEntropyLoss()\n",
    "optimizer = optim.Adam(model.parameters())\n",
    "epoch = 100"
   ]
  },
  {
   "attachments": {},
   "cell_type": "markdown",
   "metadata": {},
   "source": [
    "### Training"
   ]
  },
  {
   "cell_type": "code",
   "execution_count": null,
   "metadata": {},
   "outputs": [],
   "source": [
    "train_loss_list = []\n",
    "test_loss_list = []\n",
    "best_score = 100\n",
    "for i in range(epoch):\n",
    "    print(\"##############################################\")\n",
    "    print(\"Epoch:{}/{}\".format(i+1,epoch))\n",
    "    train_loss = 0\n",
    "    test_loss = 0\n",
    "\n",
    "    model.train()\n",
    "    #print(\"Start Training\")\n",
    "    for train_batch in train_batchs:\n",
    "        for imgs,labels,langs in train_batch:\n",
    "            imgs,labels,langs = imgs.to(torch.float).to(device),labels.to(torch.float).to(device),langs.to(device)\n",
    "            #print(imgs.shape,labels.shape,langs.shape)\n",
    "            optimizer.zero_grad()\n",
    "            y_pred = model(imgs,langs)\n",
    "            #print(y_pred.shape,label.shape)\n",
    "            loss = criterion(y_pred,labels)\n",
    "            loss.backward()\n",
    "            optimizer.step()\n",
    "            train_loss += loss.item()\n",
    "        batch_train_loss = train_loss/len(train_batch)\n",
    "\n",
    "    model.eval()\n",
    "    #print(\"Start Evaluation\")\n",
    "    for imgs,labels,langs in test_batch:\n",
    "        imgs,labels,langs = imgs.to(torch.float).to(device),labels.to(torch.float).to(device),langs.to(device)\n",
    "        #print(torch.sum(label))\n",
    "        y_pred = model(imgs,langs)\n",
    "        loss = criterion(y_pred,labels)\n",
    "        test_loss += loss.item()\n",
    "    batch_test_loss = test_loss/len(test_batch)\n",
    "\n",
    "    print(\"Train Loss:{:.2E}, Test Loss:{:.2E}\".format(batch_train_loss,batch_test_loss))\n",
    "    train_loss_list.append(batch_train_loss)\n",
    "    test_loss_list.append(batch_test_loss)\n",
    "    if batch_train_loss < best_score:\n",
    "        best_score = batch_train_loss\n",
    "        torch.save(model.to(device).state_dict(),\"model_params/shapeworld_rnn_full-data_l0.pth\")"
   ]
  },
  {
   "cell_type": "code",
   "execution_count": null,
   "metadata": {},
   "outputs": [],
   "source": [
    "torch.save(model.to(device).state_dict(),\"model_params/shapeworld_rnn_full-data_100epoch_l0_last.pth\")"
   ]
  },
  {
   "attachments": {},
   "cell_type": "markdown",
   "metadata": {},
   "source": [
    "### Accuracy Test"
   ]
  },
  {
   "cell_type": "code",
   "execution_count": null,
   "metadata": {},
   "outputs": [],
   "source": [
    "correct_num = 0\n",
    "total_num = 0\n",
    "for imgs,labels,langs in test_batch:\n",
    "    imgs,labels,langs = imgs.to(torch.float).to(device),labels.to(torch.float).to(device),langs.to(device)\n",
    "    #print(torch.sum(label))\n",
    "    y_pred_prob = model(imgs,langs)\n",
    "    #print(y_pred_prob)\n",
    "    y_pred = torch.max(y_pred_prob,1)[1]\n",
    "    labels = torch.max(labels,1)[1]\n",
    "    #print(y_pred,labels)\n",
    "    correct_num += torch.sum(y_pred==labels).item()\n",
    "    total_num += len(labels)\n",
    "    \n",
    "print(\"Total number of data for this evaluatio is \",total_num)\n",
    "print(\"Classification accuracy is \",correct_num/total_num)"
   ]
  }
 ],
 "metadata": {
  "kernelspec": {
   "display_name": "rsa",
   "language": "python",
   "name": "python3"
  },
  "language_info": {
   "codemirror_mode": {
    "name": "ipython",
    "version": 3
   },
   "file_extension": ".py",
   "mimetype": "text/x-python",
   "name": "python",
   "nbconvert_exporter": "python",
   "pygments_lexer": "ipython3",
   "version": "3.10.9"
  },
  "orig_nbformat": 4
 },
 "nbformat": 4,
 "nbformat_minor": 2
}
