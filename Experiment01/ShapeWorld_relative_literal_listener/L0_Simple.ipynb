{
 "cells": [
  {
   "cell_type": "code",
   "execution_count": null,
   "metadata": {},
   "outputs": [],
   "source": [
    "from pathlib import Path\n",
    "import os\n",
    "import numpy as np\n",
    "import matplotlib.pyplot as plt\n",
    "import torch\n",
    "from torch import nn\n",
    "from torch import optim\n",
    "from torch.nn import functional as F\n",
    "from torch.utils.data import DataLoader\n",
    "from shapeworld_data import load_raw_data, get_vocab, ShapeWorld"
   ]
  },
  {
   "cell_type": "code",
   "execution_count": null,
   "metadata": {},
   "outputs": [],
   "source": [
    "device = torch.device(\"cuda\" if torch.cuda.is_available() else \"cpu\")\n",
    "print(device)"
   ]
  },
  {
   "cell_type": "code",
   "execution_count": null,
   "metadata": {},
   "outputs": [],
   "source": [
    "def check_raw_data(imgs, labels, langs, id=0):\n",
    "    data = list(zip(imgs,labels,langs))\n",
    "    img_list,label,lang = data[id]\n",
    "    fig, axes = plt.subplots(nrows=1, ncols=3, figsize=(6, 2))\n",
    "    fig.suptitle(\" \".join(lang))\n",
    "    for i,(l,img) in enumerate(zip(label,img_list)):\n",
    "        img = img.transpose((2,1,0))\n",
    "        axes[i].imshow(img)\n",
    "        if l==1: axes[i].set_title(\"Correct\")\n",
    "    plt.show()"
   ]
  },
  {
   "attachments": {},
   "cell_type": "markdown",
   "metadata": {},
   "source": [
    "## Main test code"
   ]
  },
  {
   "attachments": {},
   "cell_type": "markdown",
   "metadata": {},
   "source": [
    "### prepare data"
   ]
  },
  {
   "cell_type": "code",
   "execution_count": null,
   "metadata": {},
   "outputs": [],
   "source": [
    "root = Path(os.path.abspath('')).parent.parent.absolute()\n",
    "data_path = os.path.join(root,\"data\\shapeworld_np\")\n",
    "print(data_path)\n",
    "data_list = os.listdir(data_path)\n",
    "print(data_list)"
   ]
  },
  {
   "cell_type": "code",
   "execution_count": null,
   "metadata": {},
   "outputs": [],
   "source": [
    "vocab = get_vocab([os.path.join(data_path,d) for d in data_list])\n",
    "print(vocab[\"w2i\"])\n",
    "COLOR = {\"white\":[1,0,0,0,0,0], \"green\":[0,1,0,0,0,0], \"gray\":[0,0,1,0,0,0], \"yellow\":[0,0,0,1,0,0], \"red\":[0,0,0,0,1,0], \"blue\":[0,0,0,0,0,1], \"other\":[0,0,0,0,0,0]}\n",
    "SHAPE = {\"shape\":[0,0,0,0], \"square\":[1,0,0,0], \"circle\":[0,1,0,0], \"rectangle\":[0,0,1,0], \"ellipse\":[0,0,0,1]} "
   ]
  },
  {
   "cell_type": "code",
   "execution_count": null,
   "metadata": {},
   "outputs": [],
   "source": [
    "d = load_raw_data(os.path.join(data_path,data_list[0]))\n",
    "print(d[\"imgs\"].shape)\n",
    "print(d[\"labels\"].shape)\n",
    "print(d[\"langs\"].shape)\n",
    "check_raw_data(d[\"imgs\"],d[\"labels\"],d[\"langs\"])\n",
    "train_batch = DataLoader(ShapeWorld(d, vocab), batch_size=32, shuffle=False)"
   ]
  },
  {
   "cell_type": "code",
   "execution_count": null,
   "metadata": {},
   "outputs": [],
   "source": [
    "d = load_raw_data(os.path.join(data_path,data_list[-1]))\n",
    "print(d[\"imgs\"].shape)\n",
    "print(d[\"labels\"].shape)\n",
    "print(d[\"langs\"].shape)\n",
    "check_raw_data(d[\"imgs\"],d[\"labels\"],d[\"langs\"])\n",
    "test_batch = DataLoader(ShapeWorld(d, vocab), batch_size=32, shuffle=False)"
   ]
  },
  {
   "attachments": {},
   "cell_type": "markdown",
   "metadata": {},
   "source": [
    "### Model setting"
   ]
  },
  {
   "attachments": {},
   "cell_type": "markdown",
   "metadata": {},
   "source": [
    "#### CNN encoder"
   ]
  },
  {
   "cell_type": "code",
   "execution_count": null,
   "metadata": {},
   "outputs": [],
   "source": [
    "from cs_cnn import CNN_encoder\n",
    "class SimpleBaseLine_ShapeWorld_L0(nn.Module):\n",
    "    def __init__(self,vocab_size, emb_dim=1024) -> None:\n",
    "        super(SimpleBaseLine_ShapeWorld_L0,self).__init__()\n",
    "        self.embedding_dim = emb_dim\n",
    "        self.embedding = nn.Embedding(vocab_size, emb_dim, padding_idx=0)\n",
    "        self.cnn_color_encoder = CNN_encoder(6)\n",
    "        self.cnn_color_encoder.load_state_dict(torch.load(\"model_params/shapeworld_original-cnn_color_model.pth\",map_location=device))\n",
    "        self.cnn_shape_encoder = CNN_encoder(4)\n",
    "        self.cnn_shape_encoder.load_state_dict(torch.load(\"model_params/shapeworld_original-cnn_shape_model.pth\",map_location=device))\n",
    "        self.to_hidden = nn.Linear(10,self.embedding_dim)\n",
    "\n",
    "    def embed_features(self, imgs):\n",
    "        imgs01 = imgs[:,0]\n",
    "        imgs02 = imgs[:,1]\n",
    "        imgs03 = imgs[:,2]\n",
    "        feats_emb_flats = []\n",
    "        for imgs in [imgs01,imgs02,imgs03]:\n",
    "            color_embs = self.cnn_color_encoder(imgs)\n",
    "            shape_embs = self.cnn_shape_encoder(imgs)\n",
    "            feats_emb = torch.hstack((color_embs, shape_embs))\n",
    "            feats_emb_flats.append(feats_emb)\n",
    "        cnn_emb = torch.stack(tuple(feats_emb_flats),dim=1)\n",
    "        feat_embs = self.to_hidden(cnn_emb)\n",
    "        #print(feat_embs.shape)\n",
    "        return feat_embs\n",
    "\n",
    "    def forward(self,imgs,contexts):\n",
    "        embs = self.embedding(contexts)\n",
    "        lang_embs = torch.sum(embs,dim=1).reshape(-1,self.embedding_dim)\n",
    "        imgs_emb = self.embed_features(imgs)\n",
    "        #print(imgs_emb.shape,lang_embs.shape)\n",
    "        scores = F.softmax(torch.einsum('ijh,ih->ij', (imgs_emb, lang_embs)),dim=-1)\n",
    "        return scores\n"
   ]
  },
  {
   "cell_type": "code",
   "execution_count": null,
   "metadata": {},
   "outputs": [],
   "source": [
    "model = SimpleBaseLine_ShapeWorld_L0(len(vocab[\"w2i\"].keys()))\n",
    "model.to(device)\n",
    "criterion = nn.CrossEntropyLoss()\n",
    "optimizer = optim.Adam(model.parameters())\n",
    "epoch = 30"
   ]
  },
  {
   "attachments": {},
   "cell_type": "markdown",
   "metadata": {},
   "source": [
    "### Training"
   ]
  },
  {
   "cell_type": "code",
   "execution_count": null,
   "metadata": {},
   "outputs": [],
   "source": [
    "def get_relative_accuracy(model,test_batch):\n",
    "    correct_num = 0\n",
    "    total_num = 0\n",
    "    for imgs,labels,langs in test_batch:\n",
    "        imgs,labels,langs = imgs.to(torch.float).to(device),labels.to(torch.float).to(device),langs.to(device)\n",
    "        y_pred_prob = model(imgs,langs)\n",
    "        y_pred = torch.max(y_pred_prob,1)[1]\n",
    "        labels = torch.max(labels,1)[1]\n",
    "        correct_num += torch.sum(y_pred==labels).item()\n",
    "        total_num += len(labels)\n",
    "    return correct_num/total_num"
   ]
  },
  {
   "cell_type": "code",
   "execution_count": null,
   "metadata": {},
   "outputs": [],
   "source": [
    "def train_model(model,train_batch,criterion,optimizer,do_break=False):\n",
    "    train_loss = 0\n",
    "    model.train()\n",
    "    for imgs,labels,langs in train_batch:\n",
    "        imgs,labels,langs = imgs.to(torch.float).to(device),labels.to(torch.float).to(device),langs.to(device)\n",
    "        optimizer.zero_grad()\n",
    "        y_pred = model(imgs,langs)\n",
    "        loss = criterion(y_pred,labels)\n",
    "        loss.backward()\n",
    "        optimizer.step()\n",
    "        train_loss += loss.item()\n",
    "        if do_break: break\n",
    "    batch_train_loss = train_loss/len(train_batch)\n",
    "    batch_train_acc = get_relative_accuracy(model, train_batch)\n",
    "    return batch_train_loss, batch_train_acc\n",
    "\n",
    "def eval_model(model,test_batch,criterion,do_break=False):\n",
    "    test_loss = 0\n",
    "    model.eval()\n",
    "    with torch.no_grad():\n",
    "        for imgs,labels,langs in test_batch:\n",
    "            imgs,labels,langs = imgs.to(torch.float).to(device),labels.to(torch.float).to(device),langs.to(device)\n",
    "            y_pred = model(imgs,langs)\n",
    "            loss = criterion(y_pred,labels)\n",
    "            test_loss += loss.item()\n",
    "            if do_break: break\n",
    "    batch_test_loss = test_loss/len(test_batch)\n",
    "    batch_test_acc = get_relative_accuracy(model,test_batch)\n",
    "    return batch_test_loss, batch_test_acc\n",
    "\n",
    "\n",
    "def train_and_eval_epochs(model,criterion,optimizer,epoch,train_batch,test_batch,train_size,log=True,do_break=False):\n",
    "    train_loss_list = []\n",
    "    train_acc_list = []\n",
    "    test_loss_list = []\n",
    "    test_acc_list = []\n",
    "    best_loss = 100\n",
    "    best_acc = 0\n",
    "    for i in range(epoch):\n",
    "        if log:\n",
    "            print(\"##############################################\")\n",
    "            print(\"Epoch:{}/{}\".format(i+1,epoch))\n",
    "        batch_train_loss, batch_train_acc = train_model(model,train_batch,criterion,optimizer,do_break=do_break)\n",
    "        batch_test_loss, batch_test_acc = eval_model(model,test_batch,criterion,do_break=do_break)\n",
    "        if log:\n",
    "            print(\"Train Loss:{:.2E}, Test Loss:{:.2E}\".format(batch_train_loss,batch_test_loss))\n",
    "            print(\"Train Acc:{:.2E}, Test Acc:{:.2E}\".format(batch_train_acc,batch_test_acc))\n",
    "        train_loss_list.append(batch_train_loss)\n",
    "        test_loss_list.append(batch_test_loss)\n",
    "        train_acc_list.append(batch_train_acc)\n",
    "        test_acc_list.append(batch_test_acc)\n",
    "        if batch_test_loss < best_loss:\n",
    "            if log: print(\"Best Loss saved ...\")\n",
    "            torch.save(model.to(device).state_dict(),\"model_params/simple-l0_best-loss_trainSize=\"+str(train_size)+\".pth\")\n",
    "            best_loss = batch_test_loss\n",
    "        if batch_test_acc > best_acc:\n",
    "            if log: print(\"Best Acc saved ...\")\n",
    "            torch.save(model.to(device).state_dict(),\"model_params/simple-l0_best-acc_trainSize=\"+str(train_size)+\".pth\")\n",
    "            best_acc = batch_test_acc\n",
    "        if do_break: break\n",
    "    return train_loss_list,test_loss_list,train_acc_list,test_acc_list"
   ]
  },
  {
   "cell_type": "code",
   "execution_count": null,
   "metadata": {},
   "outputs": [],
   "source": [
    "# train and eval with epoch\n",
    "tr_loss,ts_loss,tr_acc,ts_acc = train_and_eval_epochs(model,criterion,optimizer,epoch,train_batch,test_batch,train_size=1000,log=True,do_break=False)\n",
    "metrics = np.array([tr_loss,ts_loss,tr_acc,ts_acc])\n",
    "np.save(\"metrics/simple-l0.npy\",metrics)"
   ]
  },
  {
   "attachments": {},
   "cell_type": "markdown",
   "metadata": {},
   "source": [
    "### Accuracy Test"
   ]
  },
  {
   "cell_type": "code",
   "execution_count": null,
   "metadata": {},
   "outputs": [],
   "source": [
    "def get_prob_labels(lang_probs):\n",
    "    lang_pred = []\n",
    "    for probs in lang_probs:\n",
    "        if probs[0]==probs[1] and probs[1]==probs[2]: # all same\n",
    "            lang_pred.append(int(np.random.randint(3)))\n",
    "        elif probs[0]==probs[1] and max(probs)==probs[0]:\n",
    "            lang_pred.append(int(0 if np.random.randint(2)==0 else 1))\n",
    "        elif probs[1]==probs[2] and max(probs)==probs[1]:\n",
    "            lang_pred.append(int(1 if np.random.randint(2)==0 else 2))\n",
    "        elif probs[0]==probs[2] and max(probs)==probs[1]:\n",
    "            lang_pred.append(int(0 if np.random.randint(2)==0 else 2))\n",
    "        else:\n",
    "            lang_pred.append(int(torch.argmax(probs)))\n",
    "    return np.array(lang_pred)"
   ]
  },
  {
   "cell_type": "code",
   "execution_count": null,
   "metadata": {},
   "outputs": [],
   "source": [
    "model = SimpleBaseLine_ShapeWorld_L0(len(vocab[\"w2i\"].keys()))\n",
    "model.to(device)\n",
    "model.load_state_dict(torch.load(\"model_params/simple-l0_best-acc_trainSize=1000.pth\",map_location=device))\n",
    "\n",
    "correct_num = 0\n",
    "total_num = 0\n",
    "for imgs,labels,langs in test_batch:\n",
    "    imgs,labels,langs = imgs.to(torch.float).to(device),labels.to(torch.float).to(device),langs.to(device)\n",
    "    y_pred_prob = model(imgs,langs)\n",
    "    y_pred = torch.max(y_pred_prob,1)[1]\n",
    "    labels = torch.max(labels,1)[1]\n",
    "    #y_pred = get_prob_labels(y_pred_prob)\n",
    "    #labels = np.zeros(imgs.shape[0])\n",
    "    correct_num += sum(y_pred==labels).item()\n",
    "    total_num += len(labels)\n",
    "    \n",
    "print(\"Total number of data for this evaluatio is \",total_num)\n",
    "print(\"Classification accuracy is \",correct_num/total_num)"
   ]
  }
 ],
 "metadata": {
  "kernelspec": {
   "display_name": "rsa",
   "language": "python",
   "name": "python3"
  },
  "language_info": {
   "codemirror_mode": {
    "name": "ipython",
    "version": 3
   },
   "file_extension": ".py",
   "mimetype": "text/x-python",
   "name": "python",
   "nbconvert_exporter": "python",
   "pygments_lexer": "ipython3",
   "version": "3.10.9"
  },
  "orig_nbformat": 4
 },
 "nbformat": 4,
 "nbformat_minor": 2
}
